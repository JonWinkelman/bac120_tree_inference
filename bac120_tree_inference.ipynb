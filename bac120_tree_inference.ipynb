{
 "cells": [
  {
   "cell_type": "code",
   "execution_count": 45,
   "id": "530b43c0-d318-4f82-990b-624df4ea409a",
   "metadata": {},
   "outputs": [],
   "source": [
    "#!git clone https://github.com/JonWinkelman/jw_utils.git\n",
    "import os\n",
    "import pandas as pd\n",
    "from jw_utils import parse_fasta as pfa\n",
    "from jw_utils import hmmer_utils as hu\n",
    "from plotly import graph_objects as go\n",
    "from Bio import Phylo\n",
    "from plotly.subplots import make_subplot\n",
    "from Bio import SeqIO\n",
    "import plotly.io as pio\n",
    "import importlib\n",
    "import random\n",
    "from jw_utils import alignment_utils2 as au\n",
    "import subprocess\n",
    "from concurrent.futures import ThreadPoolExecutor\n"
   ]
  },
  {
   "cell_type": "markdown",
   "id": "8fbdddce-baef-4c17-ac1f-fb813c515baf",
   "metadata": {},
   "source": [
    "1. Put all individual proteomes into one directory\n",
    "2. make a dictionary {name:proteome_fp}"
   ]
  },
  {
   "cell_type": "code",
   "execution_count": 104,
   "id": "67c6dce2-b05e-429a-9dbc-e720ac1ba728",
   "metadata": {},
   "outputs": [
    {
     "name": "stdout",
     "output_type": "stream",
     "text": [
      "Working...    done.\n",
      "Pressed and indexed 120 HMMs (120 names and 120 accessions).\n",
      "Models pressed into binary file:   concat_bac120_profiles.hmm.h3m\n",
      "SSI index for binary model file:   concat_bac120_profiles.hmm.h3i\n",
      "Profiles (MSV part) pressed into:  concat_bac120_profiles.hmm.h3f\n",
      "Profiles (remainder) pressed into: concat_bac120_profiles.hmm.h3p\n"
     ]
    }
   ],
   "source": [
    "def concatenate_hmm_files(directory, output_file, suffix='.HMM'):\n",
    "    \"\"\"\n",
    "    Concatenates all files ending with '.HMM' in the given directory into one output file.\n",
    "\n",
    "    Args:\n",
    "        directory (str): Path to the directory containing .HMM files.\n",
    "        output_file (str): Path to the output file where concatenated content will be saved.\n",
    "    \"\"\"\n",
    "    with open(output_file, 'w') as outfile:\n",
    "        for filename in os.listdir(directory):\n",
    "            if filename.endswith(suffix):\n",
    "                file_path = os.path.join(directory, filename)\n",
    "                with open(file_path, 'r') as infile:\n",
    "                    outfile.write(infile.read())\n",
    "                    outfile.write('\\n')  # Add a newline between files\n",
    "\n",
    "    print(f\"All .HMM files from '{directory}' concatenated into '{output_file}'.\")\n",
    "\n",
    "# Example usage:\n",
    "# concatenate_hmm_files(\"/path/to/hmm/directory\", \"combined.hmm\")\n",
    "\n",
    "#concatenate_hmm_files('bac120_hmm_profiles', output_file='concat_bac120_profiles.hmm')\n",
    "!hmmpress concat_bac120_profiles.hmm"
   ]
  },
  {
   "cell_type": "code",
   "execution_count": 106,
   "id": "f3735572-a2a0-49f2-9243-5f17a560b32f",
   "metadata": {},
   "outputs": [],
   "source": [
    "proteome_dir_fp = '../data/Proteomes/'\n",
    "prot_name_fp_d = {f.strip('.faa'):os.path.join(proteome_dir_fp, f ) for f in os.listdir('../data/Proteomes/') if f.endswith('.faa')}"
   ]
  },
  {
   "cell_type": "code",
   "execution_count": 119,
   "id": "3bbc0428-aa2f-4bfa-9fe2-1e011b7eee6a",
   "metadata": {
    "scrolled": true
   },
   "outputs": [
    {
     "data": {
      "text/plain": [
       "['PF01025.23',\n",
       " 'TIGR01171.1',\n",
       " 'TIGR01029.1',\n",
       " 'TIGR01953.1',\n",
       " 'TIGR02386.1',\n",
       " 'TIGR00459.1',\n",
       " 'TIGR00088.1',\n",
       " 'TIGR03632.1',\n",
       " 'TIGR01032.1',\n",
       " 'TIGR01951.1',\n",
       " 'TIGR00029.2',\n",
       " 'TIGR00392.1',\n",
       " 'TIGR00442.1',\n",
       " 'TIGR00810.1',\n",
       " 'TIGR00168.2',\n",
       " 'TIGR00663.1',\n",
       " 'TIGR00396.1',\n",
       " 'TIGR03594.1',\n",
       " 'TIGR00643.1',\n",
       " 'TIGR02729.1',\n",
       " 'TIGR00337.1',\n",
       " 'TIGR00116.1',\n",
       " 'TIGR00460.1',\n",
       " 'TIGR01009.1',\n",
       " 'TIGR00580.1',\n",
       " 'TIGR00250.1',\n",
       " 'PF00410.23',\n",
       " 'TIGR01071.1',\n",
       " 'TIGR01394.1',\n",
       " 'TIGR00095.1',\n",
       " 'PF00380.23',\n",
       " 'TIGR00928.1',\n",
       " 'TIGR01017.1',\n",
       " 'TIGR01393.1',\n",
       " 'TIGR00092.1',\n",
       " 'TIGR00090.1',\n",
       " 'TIGR01391.1',\n",
       " 'PF02576.21',\n",
       " 'TIGR02027.1',\n",
       " 'TIGR01169.1',\n",
       " 'TIGR00194.1',\n",
       " 'TIGR00420.1',\n",
       " 'TIGR01128.1',\n",
       " 'TIGR00115.1',\n",
       " 'TIGR03263.1',\n",
       " 'TIGR00539.1',\n",
       " 'TIGR02432.1',\n",
       " 'PF03726.18',\n",
       " 'TIGR00445.1',\n",
       " 'TIGR01011.1',\n",
       " 'TIGR00054.1',\n",
       " 'TIGR00487.1',\n",
       " 'TIGR03654.1',\n",
       " 'TIGR00083.1',\n",
       " 'TIGR00382.1',\n",
       " 'TIGR02191.1',\n",
       " 'TIGR00006.1',\n",
       " 'TIGR00020.2',\n",
       " 'TIGR00431.1',\n",
       " 'TIGR00065.1',\n",
       " 'TIGR00043.2',\n",
       " 'TIGR02012.1',\n",
       " 'TIGR00634.1',\n",
       " 'TIGR01039.1',\n",
       " 'TIGR00967.1',\n",
       " 'TIGR00922.1',\n",
       " 'TIGR00344.1',\n",
       " 'TIGR00158.1',\n",
       " 'TIGR00963.1',\n",
       " 'TIGR00755.1',\n",
       " 'TIGR00019.1',\n",
       " 'TIGR00435.1',\n",
       " 'TIGR00061.1',\n",
       " 'TIGR02350.1',\n",
       " 'TIGR01063.1',\n",
       " 'TIGR00362.1',\n",
       " 'TIGR00472.1',\n",
       " 'TIGR03953.1',\n",
       " 'TIGR01087.1',\n",
       " 'TIGR00456.1',\n",
       " 'TIGR02075.1',\n",
       " 'TIGR00496.1',\n",
       " 'TIGR01632.1',\n",
       " 'TIGR00064.1',\n",
       " 'TIGR01021.1',\n",
       " 'TIGR00398.1',\n",
       " 'TIGR02013.1',\n",
       " 'TIGR01510.1',\n",
       " 'TIGR02397.1',\n",
       " 'TIGR00059.1',\n",
       " 'TIGR01059.1',\n",
       " 'TIGR00414.1',\n",
       " 'TIGR00635.1',\n",
       " 'TIGR00959.1',\n",
       " 'TIGR00964.1',\n",
       " 'TIGR03725.1',\n",
       " 'TIGR01082.1',\n",
       " 'TIGR00416.1',\n",
       " 'TIGR00082.1',\n",
       " 'TIGR00717.1',\n",
       " 'TIGR01146.1',\n",
       " 'PF00466.24',\n",
       " 'TIGR01066.1',\n",
       " 'TIGR00186.1',\n",
       " 'TIGR00084.2',\n",
       " 'TIGR00436.1',\n",
       " 'TIGR00593.1',\n",
       " 'TIGR03625.1',\n",
       " 'TIGR01302.1',\n",
       " 'TIGR00086.1',\n",
       " 'TIGR00166.1',\n",
       " 'TIGR03723.1',\n",
       " 'TIGR01079.1',\n",
       " 'TIGR01164.1',\n",
       " 'TIGR00631.1',\n",
       " 'TIGR01044.1',\n",
       " 'TIGR00468.1',\n",
       " 'TIGR00138.1',\n",
       " 'TIGR00615.1',\n",
       " 'TIGR02273.1']"
      ]
     },
     "execution_count": 119,
     "metadata": {},
     "output_type": "execute_result"
    }
   ],
   "source": [
    "hmm_bac120_ids = [f.replace('.HMM', '') for f in os.listdir('./bac120_hmm_profiles/') if f.endswith('HMM')]"
   ]
  },
  {
   "cell_type": "code",
   "execution_count": 109,
   "id": "5160a44d-db30-4d9f-88c2-6d36416e935a",
   "metadata": {},
   "outputs": [],
   "source": [
    "def run_hmmsearch(proteome_name,proteome_fp, hmm_db, output_dir):\n",
    "    \"\"\"Function to run hmmsearch with multiple hmms in an indexed hmm db on a single proteome\"\"\"\n",
    "    output_file = os.path.join(output_dir, f'{proteome_name}_best_hits.txt')\n",
    "    tblout_file = os.path.join(output_dir, f'{proteome_name}_table.txt')\n",
    "    cmd = [\n",
    "        'hmmsearch', '--tblout', tblout_file, '-E', '1e-5', \n",
    "        hmm_db, proteome_fp \n",
    "    ]\n",
    "    with open(output_file, 'w') as outfile:\n",
    "        subprocess.run(cmd, stdout=outfile)\n",
    "\n",
    "\n",
    "def ThreadPool_hmm_search(hmm_db, output_dir, prot_name_fp_d, threads = 6):\n",
    "    # Use ThreadPoolExecutor to run searches in parallel\n",
    "    with ThreadPoolExecutor(max_workers=threads) as executor:  # Adjust max_workers based on CPU cores\n",
    "        futures = [executor.submit(run_hmmsearch, \n",
    "                                   proteome_name,\n",
    "                                   proteome_fp, \n",
    "                                   hmm_db, \n",
    "                                   output_dir) for  proteome_name, proteome_fp in prot_name_fp_d.items()]\n",
    "\n",
    "    # Wait for all futures to complete\n",
    "    for future in futures:\n",
    "        print(future.result())\n",
    "\n"
   ]
  },
  {
   "cell_type": "code",
   "execution_count": 111,
   "id": "ae21a5c8-52f6-4e86-982e-6397ccd0cbbd",
   "metadata": {
    "collapsed": true,
    "jupyter": {
     "outputs_hidden": true
    },
    "scrolled": true
   },
   "outputs": [
    {
     "name": "stdout",
     "output_type": "stream",
     "text": [
      "None\n",
      "None\n",
      "None\n",
      "None\n",
      "None\n",
      "None\n",
      "None\n",
      "None\n",
      "None\n",
      "None\n",
      "None\n",
      "None\n",
      "None\n",
      "None\n",
      "None\n",
      "None\n",
      "None\n",
      "None\n",
      "None\n",
      "None\n",
      "None\n",
      "None\n",
      "None\n",
      "None\n",
      "None\n",
      "None\n",
      "None\n",
      "None\n",
      "None\n",
      "None\n",
      "None\n",
      "None\n",
      "None\n",
      "None\n",
      "None\n",
      "None\n",
      "None\n",
      "None\n",
      "None\n",
      "None\n",
      "None\n",
      "None\n",
      "None\n",
      "None\n",
      "None\n",
      "None\n",
      "None\n",
      "None\n",
      "None\n",
      "None\n",
      "None\n",
      "None\n",
      "None\n",
      "None\n",
      "None\n",
      "None\n",
      "None\n",
      "None\n",
      "None\n",
      "None\n",
      "None\n",
      "None\n",
      "None\n",
      "None\n",
      "None\n",
      "None\n",
      "None\n",
      "None\n",
      "None\n",
      "None\n",
      "None\n",
      "None\n",
      "None\n",
      "None\n",
      "None\n",
      "None\n",
      "None\n",
      "None\n",
      "None\n",
      "None\n",
      "None\n",
      "None\n",
      "None\n",
      "None\n",
      "None\n",
      "None\n",
      "None\n",
      "None\n",
      "None\n",
      "None\n",
      "None\n",
      "None\n",
      "None\n",
      "None\n",
      "None\n",
      "None\n",
      "None\n",
      "None\n",
      "None\n",
      "None\n",
      "None\n",
      "None\n",
      "None\n",
      "None\n",
      "None\n",
      "None\n",
      "None\n",
      "None\n",
      "None\n",
      "None\n",
      "None\n",
      "None\n",
      "None\n",
      "None\n",
      "None\n",
      "None\n",
      "None\n",
      "None\n",
      "None\n",
      "None\n",
      "None\n",
      "None\n",
      "None\n",
      "None\n",
      "None\n",
      "None\n",
      "None\n",
      "None\n",
      "None\n",
      "None\n",
      "None\n",
      "None\n",
      "None\n",
      "None\n",
      "None\n",
      "None\n",
      "None\n",
      "None\n",
      "None\n",
      "None\n",
      "None\n",
      "None\n",
      "None\n",
      "None\n",
      "None\n",
      "None\n",
      "None\n",
      "None\n",
      "None\n",
      "None\n",
      "None\n",
      "None\n",
      "None\n",
      "None\n",
      "None\n",
      "None\n",
      "None\n",
      "None\n",
      "None\n",
      "None\n",
      "None\n",
      "None\n",
      "None\n",
      "None\n",
      "None\n",
      "None\n",
      "None\n",
      "None\n",
      "None\n",
      "None\n",
      "None\n",
      "None\n",
      "None\n",
      "None\n",
      "None\n",
      "None\n",
      "None\n",
      "None\n",
      "None\n",
      "None\n",
      "None\n",
      "None\n",
      "None\n",
      "None\n",
      "None\n",
      "None\n",
      "None\n",
      "None\n",
      "None\n",
      "None\n",
      "None\n",
      "None\n",
      "None\n",
      "None\n",
      "None\n",
      "None\n",
      "None\n",
      "None\n",
      "None\n",
      "None\n",
      "None\n",
      "None\n",
      "None\n",
      "None\n",
      "None\n",
      "None\n",
      "None\n",
      "None\n",
      "None\n",
      "None\n",
      "None\n",
      "None\n",
      "None\n",
      "None\n",
      "None\n",
      "None\n",
      "None\n",
      "None\n",
      "None\n",
      "None\n",
      "None\n",
      "None\n",
      "None\n",
      "None\n",
      "None\n",
      "None\n",
      "None\n",
      "None\n",
      "None\n",
      "None\n",
      "None\n",
      "None\n",
      "None\n",
      "None\n",
      "None\n",
      "None\n",
      "None\n",
      "None\n",
      "None\n",
      "None\n",
      "None\n",
      "None\n",
      "None\n",
      "None\n",
      "None\n",
      "None\n",
      "None\n",
      "None\n",
      "None\n",
      "None\n",
      "None\n",
      "None\n",
      "None\n",
      "None\n",
      "None\n",
      "None\n",
      "None\n",
      "None\n",
      "None\n",
      "None\n",
      "None\n",
      "None\n",
      "None\n",
      "None\n",
      "None\n",
      "None\n",
      "None\n",
      "None\n",
      "None\n",
      "None\n",
      "None\n",
      "None\n",
      "None\n",
      "None\n",
      "None\n",
      "None\n",
      "None\n",
      "None\n",
      "None\n",
      "None\n",
      "None\n",
      "None\n",
      "None\n",
      "None\n",
      "None\n",
      "None\n",
      "None\n",
      "None\n",
      "None\n",
      "None\n",
      "None\n",
      "None\n",
      "None\n",
      "None\n",
      "None\n",
      "None\n",
      "None\n",
      "None\n",
      "None\n",
      "None\n",
      "None\n",
      "None\n",
      "None\n",
      "None\n",
      "None\n",
      "None\n",
      "None\n",
      "None\n",
      "None\n",
      "None\n",
      "None\n",
      "None\n",
      "None\n",
      "None\n",
      "None\n",
      "None\n",
      "None\n",
      "None\n",
      "None\n"
     ]
    }
   ],
   "source": [
    "hmm_db = './bac120hmm_db/concat_bac120_profiles.hmm'\n",
    "hmm_output_dir = './fastTree/hmm_search_output/'\n",
    "os.makedirs(hmm_output_dir, exist_ok=True)\n",
    "ThreadPool_hmm_search(hmm_db, hmm_output_dir, prot_name_fp_d, threads=6)"
   ]
  },
  {
   "cell_type": "code",
   "execution_count": 112,
   "id": "110518ba-0203-46d2-a900-416a93b629b9",
   "metadata": {},
   "outputs": [],
   "source": [
    "import pandas as pd\n",
    "\n",
    "def parse_tblout(tblout_file):\n",
    "    hits = []\n",
    "    with open(tblout_file) as f:\n",
    "        for line in f:\n",
    "            if not line.startswith('#'):  # Skip comments\n",
    "                cols = line.split()\n",
    "                target = cols[0]  # target sequence\n",
    "                hmm_acc = cols[3]\n",
    "                e_value = float(cols[4])  # e-value of the hit\n",
    "                hits.append((target, hmm_acc, e_value))\n",
    "    return hits\n",
    "\n",
    "# Aggregate results for all proteomes\n",
    "hits_dict = {}\n",
    "for name in prot_name_fp_d.keys():\n",
    "    tblout_file = os.path.join(hmm_output_dir, f'{name}_table.txt')\n",
    "    hits_dict[name] = parse_tblout(tblout_file)"
   ]
  },
  {
   "cell_type": "code",
   "execution_count": null,
   "id": "1350de0c-0ba6-479b-a2c5-c08387da1031",
   "metadata": {},
   "outputs": [],
   "source": []
  },
  {
   "cell_type": "code",
   "execution_count": 113,
   "id": "c74b7919-f0e8-4c05-affa-628f48eee977",
   "metadata": {
    "scrolled": true
   },
   "outputs": [],
   "source": [
    "dfs = {}\n",
    "best_hits_dir = os.path.join(hmm_output_dir, 'best_hits')\n",
    "os.makedirs(best_hits_dir, exist_ok=True)\n",
    "pd.set_option('display.float_format', '{:.10e}'.format)\n",
    "for name, hits in hits_dict.items():\n",
    "    best_hit = []\n",
    "    \n",
    "    t = pd.DataFrame(hits, columns=['target_name', 'hmm_acc', 'e_value'])\n",
    "    for hmm, df in t.groupby('hmm_acc'):\n",
    "        best_hit.append(df.sort_values('e_value').iloc[0,:].to_frame().transpose())\n",
    "    dfs[name] = pd.concat(best_hit).set_index('target_name')\n",
    "    dfs[name].to_csv(os.path.join(best_hits_dir, f'{name}_best_hits.csv'))"
   ]
  },
  {
   "cell_type": "markdown",
   "id": "f1b50416-7c9d-46b4-beb2-00069986e83b",
   "metadata": {},
   "source": [
    "### Create fasta file for each genome with bac120 proteins"
   ]
  },
  {
   "cell_type": "code",
   "execution_count": null,
   "id": "8cba41a5-846c-45ba-8398-950a8df839b7",
   "metadata": {},
   "outputs": [],
   "source": []
  },
  {
   "cell_type": "code",
   "execution_count": 126,
   "id": "ed6bac65-908c-4099-b48f-c639c923700a",
   "metadata": {
    "collapsed": true,
    "jupyter": {
     "outputs_hidden": true
    }
   },
   "outputs": [
    {
     "name": "stdout",
     "output_type": "stream",
     "text": [
      "5.02 percent finished.\n",
      "10.03 percent finished.\n",
      "15.05 percent finished.\n",
      "20.06 percent finished.\n",
      "25.08 percent finished.\n",
      "30.09 percent finished.\n",
      "35.11 percent finished.\n",
      "40.13 percent finished.\n",
      "45.14 percent finished.\n",
      "50.16 percent finished.\n",
      "55.17 percent finished.\n",
      "60.19 percent finished.\n",
      "65.2 percent finished.\n",
      "70.22 percent finished.\n",
      "75.24 percent finished.\n",
      "80.25 percent finished.\n",
      "85.27 percent finished.\n",
      "90.28 percent finished.\n",
      "95.3 percent finished.\n"
     ]
    }
   ],
   "source": [
    "from jw_utils import parse_fasta as pfa\n",
    "# get ~120 proteins from each proteome\n",
    "bac120_proteins = './fastTree/bac120_proteins'\n",
    "os.makedirs(bac120_proteins, exist_ok=True)\n",
    "perc = .05\n",
    "for i, (name, proteome_fp) in enumerate(prot_name_fp_d.items()):\n",
    "   \n",
    "    if i/len(prot_name_fp_d.keys()) > perc:\n",
    "        print(f'{round(i/len(prot_name_fp_d.keys())*100, 2)} percent finished.')\n",
    "        perc += 0.05\n",
    "    seq_d = pfa.get_seq_dict(proteome_fp)\n",
    "    hmm_seq_d = {}\n",
    "    for protein_id, row in dfs[name].iterrows():\n",
    "        hmm_seq_d[f'{row[\"hmm_acc\"]}'] = seq_d[protein_id]\n",
    "    pfa.write_to_fasta(hmm_seq_d, os.path.join(bac120_proteins, f\"{name}_bac120hits.faa\"))"
   ]
  },
  {
   "cell_type": "code",
   "execution_count": 128,
   "id": "1b1982a4-cf7f-4ea5-9e8b-2c38152e0ef1",
   "metadata": {},
   "outputs": [],
   "source": [
    "### grab protein from each genome and align with hmm\n",
    "# make seqfile fasta for each hmm\n",
    "hmm_alignments = './fastTree/hmm_alignments'\n",
    "names = list(prot_name_fp_d.keys())\n",
    "os.makedirs(hmm_alignments, exist_ok=True)\n",
    "missing = {name:[] for name in names}\n",
    "for hmm in hmm_bac120_ids:\n",
    "    seq_d ={}\n",
    "    for name in names:\n",
    "        fp = os.path.join(bac120_proteins,f'{name}_bac120hits.faa')\n",
    "        seq = pfa.get_seq_dict(fp).get(hmm)\n",
    "        if seq:\n",
    "            seq_d[name] = seq\n",
    "            missing[name].append(True)\n",
    "        else:\n",
    "            missing[name].append(False)\n",
    "    pfa.write_to_fasta(seq_d, os.path.join(hmm_alignments, f\"{hmm}.faa\"))\n",
    "pres_abs_df = pd.DataFrame.from_dict(missing, orient='index', columns=hmm_bac120_ids)    "
   ]
  },
  {
   "cell_type": "code",
   "execution_count": null,
   "id": "0809d208-8dcd-4e7f-87ea-1932c730cdcd",
   "metadata": {},
   "outputs": [],
   "source": []
  },
  {
   "cell_type": "code",
   "execution_count": 131,
   "id": "1abfe372-9b97-40d0-98f6-eab1c53935fb",
   "metadata": {
    "collapsed": true,
    "jupyter": {
     "outputs_hidden": true
    },
    "scrolled": true
   },
   "outputs": [
    {
     "name": "stdout",
     "output_type": "stream",
     "text": [
      "aligning with PF01025.23...\n",
      "aligning with TIGR01171.1...\n",
      "aligning with TIGR01029.1...\n",
      "aligning with TIGR01953.1...\n",
      "aligning with TIGR02386.1...\n",
      "aligning with TIGR00459.1...\n",
      "aligning with TIGR00088.1...\n",
      "aligning with TIGR03632.1...\n",
      "aligning with TIGR01032.1...\n",
      "aligning with TIGR01951.1...\n",
      "aligning with TIGR00029.2...\n",
      "aligning with TIGR00392.1...\n",
      "aligning with TIGR00442.1...\n",
      "aligning with TIGR00810.1...\n",
      "aligning with TIGR00168.2...\n",
      "aligning with TIGR00663.1...\n",
      "aligning with TIGR00396.1...\n",
      "aligning with TIGR03594.1...\n",
      "aligning with TIGR00643.1...\n",
      "aligning with TIGR02729.1...\n",
      "aligning with TIGR00337.1...\n",
      "aligning with TIGR00116.1...\n",
      "aligning with TIGR00460.1...\n",
      "aligning with TIGR01009.1...\n",
      "aligning with TIGR00580.1...\n",
      "aligning with TIGR00250.1...\n",
      "aligning with PF00410.23...\n",
      "aligning with TIGR01071.1...\n",
      "aligning with TIGR01394.1...\n",
      "aligning with TIGR00095.1...\n",
      "aligning with PF00380.23...\n",
      "aligning with TIGR00928.1...\n",
      "aligning with TIGR01017.1...\n",
      "aligning with TIGR01393.1...\n",
      "aligning with TIGR00092.1...\n",
      "aligning with TIGR00090.1...\n",
      "aligning with TIGR01391.1...\n",
      "aligning with PF02576.21...\n",
      "aligning with TIGR02027.1...\n",
      "aligning with TIGR01169.1...\n",
      "aligning with TIGR00194.1...\n",
      "aligning with TIGR00420.1...\n",
      "aligning with TIGR01128.1...\n",
      "aligning with TIGR00115.1...\n",
      "aligning with TIGR03263.1...\n",
      "aligning with TIGR00539.1...\n",
      "aligning with TIGR02432.1...\n",
      "aligning with PF03726.18...\n",
      "aligning with TIGR00445.1...\n",
      "aligning with TIGR01011.1...\n",
      "aligning with TIGR00054.1...\n",
      "aligning with TIGR00487.1...\n",
      "aligning with TIGR03654.1...\n",
      "aligning with TIGR00083.1...\n",
      "aligning with TIGR00382.1...\n",
      "aligning with TIGR02191.1...\n",
      "aligning with TIGR00006.1...\n",
      "aligning with TIGR00020.2...\n",
      "aligning with TIGR00431.1...\n",
      "aligning with TIGR00065.1...\n",
      "aligning with TIGR00043.2...\n",
      "aligning with TIGR02012.1...\n",
      "aligning with TIGR00634.1...\n",
      "aligning with TIGR01039.1...\n",
      "aligning with TIGR00967.1...\n",
      "aligning with TIGR00922.1...\n",
      "aligning with TIGR00344.1...\n",
      "aligning with TIGR00158.1...\n",
      "aligning with TIGR00963.1...\n",
      "aligning with TIGR00755.1...\n",
      "aligning with TIGR00019.1...\n",
      "aligning with TIGR00435.1...\n",
      "aligning with TIGR00061.1...\n",
      "aligning with TIGR02350.1...\n",
      "aligning with TIGR01063.1...\n",
      "aligning with TIGR00362.1...\n",
      "aligning with TIGR00472.1...\n",
      "aligning with TIGR03953.1...\n",
      "aligning with TIGR01087.1...\n",
      "aligning with TIGR00456.1...\n",
      "aligning with TIGR02075.1...\n",
      "aligning with TIGR00496.1...\n",
      "aligning with TIGR01632.1...\n",
      "aligning with TIGR00064.1...\n",
      "aligning with TIGR01021.1...\n",
      "aligning with TIGR00398.1...\n",
      "aligning with TIGR02013.1...\n",
      "aligning with TIGR01510.1...\n",
      "aligning with TIGR02397.1...\n",
      "aligning with TIGR00059.1...\n",
      "aligning with TIGR01059.1...\n",
      "aligning with TIGR00414.1...\n",
      "aligning with TIGR00635.1...\n",
      "aligning with TIGR00959.1...\n",
      "aligning with TIGR00964.1...\n",
      "aligning with TIGR03725.1...\n",
      "aligning with TIGR01082.1...\n",
      "aligning with TIGR00416.1...\n",
      "aligning with TIGR00082.1...\n",
      "aligning with TIGR00717.1...\n",
      "aligning with TIGR01146.1...\n",
      "aligning with PF00466.24...\n",
      "aligning with TIGR01066.1...\n",
      "aligning with TIGR00186.1...\n",
      "aligning with TIGR00084.2...\n",
      "aligning with TIGR00436.1...\n",
      "aligning with TIGR00593.1...\n",
      "aligning with TIGR03625.1...\n",
      "aligning with TIGR01302.1...\n",
      "aligning with TIGR00086.1...\n",
      "aligning with TIGR00166.1...\n",
      "aligning with TIGR03723.1...\n",
      "aligning with TIGR01079.1...\n",
      "aligning with TIGR01164.1...\n",
      "aligning with TIGR00631.1...\n",
      "aligning with TIGR01044.1...\n",
      "aligning with TIGR00468.1...\n",
      "aligning with TIGR00138.1...\n",
      "aligning with TIGR00615.1...\n",
      "aligning with TIGR02273.1...\n"
     ]
    }
   ],
   "source": [
    "sto_fps = []\n",
    "for hmm in hmm_bac120_ids:\n",
    "    \"\"\"\"\"\"\n",
    "    print(f'aligning with {hmm}...')\n",
    "    seqs_fp = os.path.join(hmm_alignments,f'{hmm}.faa')\n",
    "    out_fp = seqs_fp.replace('.faa', '.sto')\n",
    "    hu.run_hmm_alignment(hmm_db,seqs_fp,hmm, out_fp, output_format='Pfam', trim=True)\n",
    "    sto_fps.append(out_fp)"
   ]
  },
  {
   "cell_type": "code",
   "execution_count": 132,
   "id": "cbcd3f38-d6ad-479b-afb4-0f827025c6ca",
   "metadata": {},
   "outputs": [
    {
     "data": {
      "application/vnd.plotly.v1+json": {
       "config": {
        "plotlyServerURL": "https://plot.ly"
       },
       "data": [
        {
         "name": "fraction HMMs present genome",
         "type": "bar",
         "x": [
          "GCF_001721805.1",
          "GCF_019139535.1",
          "GCF_900636995.1",
          "GCF_001477425.1",
          "GCF_900105995.1",
          "GCF_000164015.3",
          "GCF_000026105.1",
          "GCF_003851985.1",
          "GCF_001482725.1",
          "GCF_011466835.1",
          "GCF_001655295.1",
          "GCF_001547915.1",
          "GCF_022559545.1",
          "GCF_013343435.1",
          "GCF_024448735.1",
          "GCF_022533565.1",
          "GCF_000012265.1",
          "GCF_002237425.1",
          "GCF_001518815.1",
          "GCF_002941105.1",
          "GCF_018388545.1",
          "GCF_900105255.1",
          "GCF_000172895.1",
          "GCF_001547955.1",
          "GCF_002951475.1",
          "GCF_000825645.2",
          "GCF_024413275.1",
          "GCF_003626995.1",
          "GCF_014268485.2",
          "GCF_003028335.1",
          "GCF_014268275.2",
          "GCF_021029445.1",
          "GCF_002355315.1",
          "GCF_017900915.1",
          "GCF_004135995.1",
          "GCF_001722025.1",
          "GCF_900235895.1",
          "GCF_024397355.1",
          "GCF_002237405.1",
          "GCF_017798225.1",
          "GCF_014268585.2",
          "GCF_000759535.1",
          "GCF_009911735.1",
          "GCF_001722005.2",
          "GCF_016105505.1",
          "GCF_002356535.2",
          "GCF_001297075.1",
          "GCF_002208645.1",
          "GCF_002741095.1",
          "GCF_014854655.1",
          "GCF_000293885.2",
          "GCF_900106015.1",
          "GCF_008033765.1",
          "GCF_013374995.1",
          "GCF_016105665.1",
          "GCF_022453825.1",
          "GCF_023277925.1",
          "GCF_019141525.1",
          "GCF_001605965.1",
          "GCF_002905795.1",
          "GCF_013343535.1",
          "GCF_013200955.1",
          "GCF_002205355.1",
          "GCF_011765175.1",
          "GCF_900106045.1",
          "GCA_001077675.1",
          "GCF_003851145.1",
          "GCF_014268375.2",
          "GCF_013403585.1",
          "GCF_000009225.2",
          "GCF_003047185.1",
          "GCF_012971725.1",
          "GCF_016743035.1",
          "GCF_001400495.1",
          "GCF_000349845.1",
          "GCF_009755645.1",
          "GCF_001708505.1",
          "GCF_009362955.1",
          "GCF_009497895.1",
          "GCF_002104615.1",
          "GCF_022807995.1",
          "GCF_000813225.1",
          "GCF_003850385.1",
          "GCF_003851385.1",
          "GCF_002966835.1",
          "GCF_024397895.1",
          "GCF_000145845.2",
          "GCF_900626055.1",
          "GCF_013425825.1",
          "GCF_014863585.1",
          "GCF_019139675.1",
          "GCF_001547895.1",
          "GCF_001543125.1",
          "GCF_001722045.1",
          "GCF_014076455.1",
          "GCF_009740185.1",
          "GCF_007833495.1",
          "GCF_002024285.1",
          "GCF_900601635.1",
          "GCF_000761155.1",
          "GCF_002223805.1",
          "GCF_012971705.1",
          "GCF_002884415.1",
          "GCF_900105485.1",
          "GCF_000145845.1",
          "GCF_024760445.1",
          "GCF_019139795.1",
          "GCF_022870785.1",
          "GCF_000237045.1",
          "GCF_001515585.1",
          "GCF_009676885.1",
          "GCF_002104595.1",
          "GCF_001594225.1",
          "GCF_004745455.1",
          "GCF_001042905.1",
          "GCF_009911755.1",
          "GCF_014855475.1",
          "GCF_001839655.2",
          "GCF_019879085.1",
          "GCF_014863605.1",
          "GCF_001721785.1",
          "GCF_900625045.1",
          "GCF_021601925.1",
          "GCF_002205335.1",
          "GCF_001647715.1",
          "GCF_000006765.1",
          "GCF_001721745.1",
          "GCF_900104915.1",
          "GCF_000504045.1",
          "GCF_002085755.1",
          "GCF_003700835.1",
          "GCF_001661075.1",
          "GCF_000344475.3",
          "GCF_001721765.1",
          "GCF_025452135.1",
          "GCF_001020725.2",
          "GCF_008801455.1",
          "GCF_004348895.1",
          "GCF_002943995.1",
          "GCF_003671865.1",
          "GCF_001874465.1",
          "GCF_001412045.1",
          "GCF_900188285.1",
          "GCF_000319815.1",
          "GCF_901482615.1",
          "GCF_021495345.1",
          "GCF_020424105.1",
          "GCF_900105655.1",
          "GCF_003850425.1",
          "GCF_017167965.1",
          "GCF_001449085.1",
          "GCF_020025155.1",
          "GCF_030028275.1",
          "GCF_021725455.1",
          "GCF_900104945.1",
          "GCF_022557235.1",
          "GCF_000397205.1",
          "GCF_000568855.2",
          "GCF_000524595.1",
          "GCF_016105885.1",
          "GCF_000452705.1",
          "GCF_003060845.1",
          "GCF_020422905.1",
          "GCF_022026035.1",
          "GCF_002287865.1",
          "GCF_002192495.1",
          "GCF_000327065.1",
          "GCF_001721825.1",
          "GCF_001655595.1",
          "GCF_026727755.1",
          "GCF_004355125.1",
          "GCF_002007785.1",
          "GCF_001730655.1",
          "GCF_003699955.1",
          "GCF_003410335.1",
          "GCF_000828695.1",
          "GCF_017915135.1",
          "GCF_021233455.1",
          "GCF_000007805.1",
          "GCF_003699405.1",
          "GCF_000816985.1",
          "GCF_000017205.1",
          "GCF_000510285.1",
          "GCF_008033725.1",
          "GCF_030388285.1",
          "GCF_002411865.3",
          "GCF_019693255.1",
          "GCF_022569995.1",
          "GCF_000452445.2",
          "GCF_002864795.1",
          "GCF_000746525.1",
          "GCF_900105885.1",
          "GCF_000146005.2",
          "GCF_013409125.2",
          "GCF_900636845.1",
          "GCF_021398855.1",
          "GCF_000988485.1",
          "GCF_003369755.1",
          "GCF_021432765.1",
          "GCF_030369855.1",
          "GCF_003940825.1",
          "GCF_019139815.1",
          "GCF_002442555.1",
          "GCF_002085605.1",
          "GCF_024266805.1",
          "GCF_002736065.1",
          "GCF_014268455.2",
          "GCF_022569895.1",
          "GCF_003369775.1",
          "GCF_000829885.1",
          "GCF_016599635.1",
          "GCF_011397855.1",
          "GCF_023272755.1",
          "GCF_011040435.1",
          "GCF_004355145.1",
          "GCF_000510305.1",
          "GCF_000452745.2",
          "GCF_002946935.1",
          "GCF_008693965.1",
          "GCF_001606045.1",
          "GCF_026727715.1",
          "GCF_900105005.1",
          "GCF_014268885.2",
          "GCF_003852025.1",
          "GCA_000014625.1",
          "GCF_002192475.1",
          "GCF_900475285.1",
          "GCF_013347965.1",
          "GCF_020204845.1",
          "GCF_026727735.1",
          "GCF_000496455.2",
          "GCF_018417575.1",
          "GCF_019285655.1",
          "GCF_000014625.1",
          "GCF_000204295.1",
          "GCF_003206535.1",
          "GCF_000013785.1",
          "GCF_000219605.1",
          "GCF_005080685.1",
          "GCF_001721845.1",
          "GCF_002966555.1",
          "GCF_004683905.1",
          "GCF_900104805.1",
          "GCF_014268755.2",
          "GCF_021249245.1",
          "GCF_000508765.1",
          "GCF_020917325.1",
          "GCF_003415775.1",
          "GCF_000271365.1",
          "GCF_022453765.1",
          "GCF_019614655.1",
          "GCF_003369735.1",
          "GCF_001655615.1",
          "GCF_008370715.1",
          "GCF_014268695.2",
          "GCF_002091695.1",
          "GCF_019139855.1",
          "GCF_026727695.1",
          "GCF_002980135.1",
          "GCF_000026645.1",
          "GCF_900116605.1",
          "GCF_009648875.1",
          "GCF_008801565.1",
          "GCF_022569935.1",
          "GCF_019139835.1",
          "GCF_021389915.1",
          "GCF_019139895.1",
          "GCF_001269655.1",
          "GCF_021605025.1",
          "GCF_023207855.1",
          "GCF_014269225.2",
          "GCF_002362295.1",
          "GCF_024072295.1",
          "GCF_001679685.1",
          "GCF_000696345.2",
          "GCF_008033745.1",
          "GCF_015476275.1",
          "GCF_000145885.1",
          "GCF_900475215.1",
          "GCF_021654315.1",
          "GCF_002318885.1",
          "GCF_019334485.1",
          "GCF_013343475.1",
          "GCF_002205375.1",
          "GCF_000473745.2",
          "GCF_000194805.1",
          "GCF_005281455.1",
          "GCF_016861485.1",
          "GCF_900682675.1",
          "GCF_001682515.1",
          "GCF_000046845.1",
          "GCF_000413935.1",
          "GCF_024023035.1",
          "GCF_001708425.1",
          "GCF_003413075.1",
          "GCF_001447845.1",
          "GCF_013911125.1",
          "GCF_009903285.1",
          "GCF_022510205.1",
          "GCF_001750705.1",
          "GCF_014269025.1",
          "GCF_002688705.1",
          "GCF_014656565.1",
          "GCF_001400675.1",
          "GCF_022049085.1",
          "GCF_014268595.1",
          "GCF_017166425.1",
          "GCF_014522265.1",
          "GCF_019719375.1",
          "GCF_013393345.1",
          "GCF_014268445.1",
          "GCF_014190825.1",
          "GCF_013778535.1",
          "GCF_004124255.1",
          "GCF_014268495.1",
          "GCF_015712065.1",
          "GCF_016134935.1",
          "GCF_000280575.1",
          "GCF_001641345.1"
         ],
         "xaxis": "x",
         "y": [
          1,
          1,
          1,
          1,
          1,
          1,
          1,
          1,
          1,
          1,
          1,
          1,
          1,
          1,
          1,
          1,
          1,
          1,
          1,
          1,
          1,
          1,
          1,
          1,
          1,
          1,
          1,
          1,
          1,
          1,
          1,
          1,
          1,
          1,
          1,
          1,
          1,
          1,
          1,
          1,
          1,
          1,
          1,
          1,
          1,
          1,
          1,
          1,
          1,
          1,
          1,
          1,
          1,
          1,
          1,
          1,
          1,
          1,
          1,
          1,
          1,
          1,
          1,
          1,
          1,
          1,
          1,
          1,
          1,
          1,
          1,
          1,
          1,
          1,
          1,
          1,
          1,
          1,
          1,
          1,
          1,
          1,
          1,
          1,
          1,
          1,
          1,
          1,
          1,
          1,
          1,
          1,
          1,
          1,
          1,
          1,
          1,
          1,
          1,
          1,
          1,
          1,
          1,
          1,
          1,
          1,
          1,
          1,
          1,
          1,
          1,
          1,
          1,
          1,
          1,
          1,
          1,
          1,
          1,
          1,
          1,
          1,
          1,
          1,
          1,
          1,
          1,
          1,
          1,
          1,
          1,
          1,
          1,
          1,
          1,
          1,
          1,
          1,
          1,
          1,
          1,
          1,
          1,
          1,
          1,
          1,
          1,
          1,
          1,
          1,
          1,
          1,
          1,
          1,
          1,
          1,
          1,
          1,
          1,
          1,
          1,
          1,
          1,
          1,
          1,
          1,
          1,
          1,
          1,
          1,
          1,
          1,
          1,
          1,
          1,
          1,
          1,
          1,
          1,
          1,
          1,
          1,
          1,
          1,
          1,
          1,
          1,
          1,
          1,
          1,
          1,
          1,
          1,
          1,
          1,
          1,
          1,
          1,
          1,
          1,
          1,
          1,
          1,
          1,
          1,
          1,
          1,
          1,
          1,
          1,
          1,
          1,
          1,
          1,
          1,
          1,
          1,
          1,
          1,
          1,
          1,
          1,
          1,
          1,
          1,
          1,
          1,
          1,
          1,
          1,
          1,
          1,
          1,
          1,
          1,
          1,
          1,
          1,
          1,
          1,
          1,
          1,
          1,
          1,
          1,
          1,
          1,
          1,
          1,
          1,
          1,
          1,
          1,
          1,
          1,
          1,
          1,
          1,
          1,
          1,
          1,
          1,
          1,
          1,
          1,
          1,
          1,
          1,
          1,
          1,
          1,
          1,
          1,
          1,
          1,
          1,
          1,
          0.9916666666666667,
          0.9916666666666667,
          0.9916666666666667,
          0.9916666666666667,
          0.9916666666666667,
          0.9916666666666667,
          0.9916666666666667,
          0.9916666666666667,
          0.9916666666666667,
          0.9916666666666667,
          0.9916666666666667,
          0.9916666666666667,
          0.9916666666666667,
          0.9916666666666667,
          0.9916666666666667,
          0.9833333333333333,
          0.9833333333333333,
          0.9833333333333333,
          0.9833333333333333,
          0.975,
          0.975,
          0.975,
          0.975,
          0.9666666666666667,
          0.9666666666666667,
          0.9666666666666667,
          0.9666666666666667,
          0.9666666666666667,
          0.9666666666666667,
          0.9583333333333334,
          0.9583333333333334,
          0.9583333333333334,
          0.9583333333333334,
          0.9583333333333334,
          0.9583333333333334,
          0.9583333333333334,
          0.9583333333333334,
          0.95,
          0.9416666666666667,
          0.9333333333333333,
          0.925,
          0.85
         ],
         "yaxis": "y"
        },
        {
         "name": "# genomes contianing HMM",
         "type": "bar",
         "x": [
          "TIGR00043.2",
          "TIGR00445.1",
          "TIGR00635.1",
          "TIGR00382.1",
          "TIGR00959.1",
          "TIGR03654.1",
          "TIGR00487.1",
          "TIGR00054.1",
          "TIGR01011.1",
          "TIGR00964.1",
          "TIGR01066.1",
          "TIGR03725.1",
          "TIGR00539.1",
          "TIGR03263.1",
          "TIGR01082.1",
          "TIGR00416.1",
          "TIGR00420.1",
          "TIGR00082.1",
          "TIGR00414.1",
          "TIGR00020.2",
          "TIGR00065.1",
          "TIGR01171.1",
          "TIGR01632.1",
          "TIGR00362.1",
          "TIGR01063.1",
          "TIGR02350.1",
          "TIGR00061.1",
          "TIGR00435.1",
          "TIGR00019.1",
          "TIGR00064.1",
          "TIGR01021.1",
          "TIGR00158.1",
          "TIGR00398.1",
          "TIGR00967.1",
          "TIGR01039.1",
          "TIGR02397.1",
          "TIGR00059.1",
          "TIGR02075.1",
          "TIGR01087.1",
          "TIGR00186.1",
          "TIGR01951.1",
          "TIGR03594.1",
          "TIGR00396.1",
          "TIGR00663.1",
          "TIGR03723.1",
          "TIGR00442.1",
          "TIGR00392.1",
          "TIGR01032.1",
          "TIGR02729.1",
          "TIGR01164.1",
          "TIGR00631.1",
          "TIGR00459.1",
          "TIGR01044.1",
          "TIGR00138.1",
          "TIGR01029.1",
          "TIGR00436.1",
          "TIGR00643.1",
          "TIGR00337.1",
          "PF00410.23",
          "TIGR00928.1",
          "PF00380.23",
          "TIGR00095.1",
          "TIGR01394.1",
          "TIGR00092.1",
          "TIGR01071.1",
          "TIGR00090.1",
          "TIGR01393.1",
          "TIGR00250.1",
          "TIGR00580.1",
          "TIGR01302.1",
          "TIGR00460.1",
          "TIGR00116.1",
          "TIGR03625.1",
          "TIGR00496.1",
          "TIGR01079.1",
          "TIGR01059.1",
          "TIGR01510.1",
          "TIGR00166.1",
          "TIGR00717.1",
          "TIGR02273.1",
          "TIGR00456.1",
          "TIGR02432.1",
          "TIGR01953.1",
          "TIGR00755.1",
          "TIGR00344.1",
          "TIGR03632.1",
          "TIGR00810.1",
          "TIGR00168.2",
          "TIGR01017.1",
          "TIGR03953.1",
          "TIGR01169.1",
          "TIGR00115.1",
          "TIGR00083.1",
          "TIGR00468.1",
          "TIGR01146.1",
          "TIGR02012.1",
          "TIGR00963.1",
          "TIGR00431.1",
          "TIGR00634.1",
          "TIGR00086.1",
          "TIGR00615.1",
          "TIGR00472.1",
          "TIGR02386.1",
          "TIGR02027.1",
          "PF02576.21",
          "TIGR01391.1",
          "TIGR00593.1",
          "TIGR02013.1",
          "TIGR00088.1",
          "PF01025.23",
          "TIGR01009.1",
          "TIGR00194.1",
          "TIGR01128.1",
          "TIGR00922.1",
          "TIGR00084.2",
          "TIGR02191.1",
          "TIGR00006.1",
          "TIGR00029.2",
          "PF00466.24",
          "PF03726.18"
         ],
         "xaxis": "x2",
         "y": [
          319,
          319,
          319,
          319,
          319,
          319,
          319,
          319,
          319,
          319,
          319,
          319,
          319,
          319,
          319,
          319,
          319,
          319,
          319,
          319,
          319,
          319,
          319,
          319,
          319,
          319,
          319,
          319,
          319,
          319,
          319,
          319,
          319,
          319,
          319,
          319,
          319,
          319,
          319,
          319,
          319,
          319,
          319,
          319,
          319,
          319,
          319,
          319,
          319,
          319,
          319,
          319,
          319,
          319,
          319,
          319,
          319,
          319,
          319,
          319,
          319,
          319,
          319,
          319,
          319,
          319,
          319,
          319,
          319,
          319,
          319,
          319,
          319,
          318,
          318,
          318,
          318,
          318,
          318,
          318,
          318,
          318,
          318,
          318,
          318,
          318,
          318,
          318,
          318,
          318,
          318,
          318,
          318,
          317,
          317,
          317,
          317,
          317,
          317,
          316,
          316,
          316,
          316,
          316,
          316,
          316,
          316,
          316,
          315,
          315,
          315,
          315,
          315,
          314,
          314,
          310,
          310,
          309,
          306,
          302
         ],
         "yaxis": "y2"
        }
       ],
       "layout": {
        "autosize": true,
        "template": {
         "data": {
          "bar": [
           {
            "error_x": {
             "color": "rgb(36,36,36)"
            },
            "error_y": {
             "color": "rgb(36,36,36)"
            },
            "marker": {
             "line": {
              "color": "white",
              "width": 0.5
             },
             "pattern": {
              "fillmode": "overlay",
              "size": 10,
              "solidity": 0.2
             }
            },
            "type": "bar"
           }
          ],
          "barpolar": [
           {
            "marker": {
             "line": {
              "color": "white",
              "width": 0.5
             },
             "pattern": {
              "fillmode": "overlay",
              "size": 10,
              "solidity": 0.2
             }
            },
            "type": "barpolar"
           }
          ],
          "carpet": [
           {
            "aaxis": {
             "endlinecolor": "rgb(36,36,36)",
             "gridcolor": "white",
             "linecolor": "white",
             "minorgridcolor": "white",
             "startlinecolor": "rgb(36,36,36)"
            },
            "baxis": {
             "endlinecolor": "rgb(36,36,36)",
             "gridcolor": "white",
             "linecolor": "white",
             "minorgridcolor": "white",
             "startlinecolor": "rgb(36,36,36)"
            },
            "type": "carpet"
           }
          ],
          "choropleth": [
           {
            "colorbar": {
             "outlinewidth": 1,
             "tickcolor": "rgb(36,36,36)",
             "ticks": "outside"
            },
            "type": "choropleth"
           }
          ],
          "contour": [
           {
            "colorbar": {
             "outlinewidth": 1,
             "tickcolor": "rgb(36,36,36)",
             "ticks": "outside"
            },
            "colorscale": [
             [
              0,
              "#440154"
             ],
             [
              0.1111111111111111,
              "#482878"
             ],
             [
              0.2222222222222222,
              "#3e4989"
             ],
             [
              0.3333333333333333,
              "#31688e"
             ],
             [
              0.4444444444444444,
              "#26828e"
             ],
             [
              0.5555555555555556,
              "#1f9e89"
             ],
             [
              0.6666666666666666,
              "#35b779"
             ],
             [
              0.7777777777777778,
              "#6ece58"
             ],
             [
              0.8888888888888888,
              "#b5de2b"
             ],
             [
              1,
              "#fde725"
             ]
            ],
            "type": "contour"
           }
          ],
          "contourcarpet": [
           {
            "colorbar": {
             "outlinewidth": 1,
             "tickcolor": "rgb(36,36,36)",
             "ticks": "outside"
            },
            "type": "contourcarpet"
           }
          ],
          "heatmap": [
           {
            "colorbar": {
             "outlinewidth": 1,
             "tickcolor": "rgb(36,36,36)",
             "ticks": "outside"
            },
            "colorscale": [
             [
              0,
              "#440154"
             ],
             [
              0.1111111111111111,
              "#482878"
             ],
             [
              0.2222222222222222,
              "#3e4989"
             ],
             [
              0.3333333333333333,
              "#31688e"
             ],
             [
              0.4444444444444444,
              "#26828e"
             ],
             [
              0.5555555555555556,
              "#1f9e89"
             ],
             [
              0.6666666666666666,
              "#35b779"
             ],
             [
              0.7777777777777778,
              "#6ece58"
             ],
             [
              0.8888888888888888,
              "#b5de2b"
             ],
             [
              1,
              "#fde725"
             ]
            ],
            "type": "heatmap"
           }
          ],
          "heatmapgl": [
           {
            "colorbar": {
             "outlinewidth": 1,
             "tickcolor": "rgb(36,36,36)",
             "ticks": "outside"
            },
            "colorscale": [
             [
              0,
              "#440154"
             ],
             [
              0.1111111111111111,
              "#482878"
             ],
             [
              0.2222222222222222,
              "#3e4989"
             ],
             [
              0.3333333333333333,
              "#31688e"
             ],
             [
              0.4444444444444444,
              "#26828e"
             ],
             [
              0.5555555555555556,
              "#1f9e89"
             ],
             [
              0.6666666666666666,
              "#35b779"
             ],
             [
              0.7777777777777778,
              "#6ece58"
             ],
             [
              0.8888888888888888,
              "#b5de2b"
             ],
             [
              1,
              "#fde725"
             ]
            ],
            "type": "heatmapgl"
           }
          ],
          "histogram": [
           {
            "marker": {
             "line": {
              "color": "white",
              "width": 0.6
             }
            },
            "type": "histogram"
           }
          ],
          "histogram2d": [
           {
            "colorbar": {
             "outlinewidth": 1,
             "tickcolor": "rgb(36,36,36)",
             "ticks": "outside"
            },
            "colorscale": [
             [
              0,
              "#440154"
             ],
             [
              0.1111111111111111,
              "#482878"
             ],
             [
              0.2222222222222222,
              "#3e4989"
             ],
             [
              0.3333333333333333,
              "#31688e"
             ],
             [
              0.4444444444444444,
              "#26828e"
             ],
             [
              0.5555555555555556,
              "#1f9e89"
             ],
             [
              0.6666666666666666,
              "#35b779"
             ],
             [
              0.7777777777777778,
              "#6ece58"
             ],
             [
              0.8888888888888888,
              "#b5de2b"
             ],
             [
              1,
              "#fde725"
             ]
            ],
            "type": "histogram2d"
           }
          ],
          "histogram2dcontour": [
           {
            "colorbar": {
             "outlinewidth": 1,
             "tickcolor": "rgb(36,36,36)",
             "ticks": "outside"
            },
            "colorscale": [
             [
              0,
              "#440154"
             ],
             [
              0.1111111111111111,
              "#482878"
             ],
             [
              0.2222222222222222,
              "#3e4989"
             ],
             [
              0.3333333333333333,
              "#31688e"
             ],
             [
              0.4444444444444444,
              "#26828e"
             ],
             [
              0.5555555555555556,
              "#1f9e89"
             ],
             [
              0.6666666666666666,
              "#35b779"
             ],
             [
              0.7777777777777778,
              "#6ece58"
             ],
             [
              0.8888888888888888,
              "#b5de2b"
             ],
             [
              1,
              "#fde725"
             ]
            ],
            "type": "histogram2dcontour"
           }
          ],
          "mesh3d": [
           {
            "colorbar": {
             "outlinewidth": 1,
             "tickcolor": "rgb(36,36,36)",
             "ticks": "outside"
            },
            "type": "mesh3d"
           }
          ],
          "parcoords": [
           {
            "line": {
             "colorbar": {
              "outlinewidth": 1,
              "tickcolor": "rgb(36,36,36)",
              "ticks": "outside"
             }
            },
            "type": "parcoords"
           }
          ],
          "pie": [
           {
            "automargin": true,
            "type": "pie"
           }
          ],
          "scatter": [
           {
            "fillpattern": {
             "fillmode": "overlay",
             "size": 10,
             "solidity": 0.2
            },
            "type": "scatter"
           }
          ],
          "scatter3d": [
           {
            "line": {
             "colorbar": {
              "outlinewidth": 1,
              "tickcolor": "rgb(36,36,36)",
              "ticks": "outside"
             }
            },
            "marker": {
             "colorbar": {
              "outlinewidth": 1,
              "tickcolor": "rgb(36,36,36)",
              "ticks": "outside"
             }
            },
            "type": "scatter3d"
           }
          ],
          "scattercarpet": [
           {
            "marker": {
             "colorbar": {
              "outlinewidth": 1,
              "tickcolor": "rgb(36,36,36)",
              "ticks": "outside"
             }
            },
            "type": "scattercarpet"
           }
          ],
          "scattergeo": [
           {
            "marker": {
             "colorbar": {
              "outlinewidth": 1,
              "tickcolor": "rgb(36,36,36)",
              "ticks": "outside"
             }
            },
            "type": "scattergeo"
           }
          ],
          "scattergl": [
           {
            "marker": {
             "colorbar": {
              "outlinewidth": 1,
              "tickcolor": "rgb(36,36,36)",
              "ticks": "outside"
             }
            },
            "type": "scattergl"
           }
          ],
          "scattermapbox": [
           {
            "marker": {
             "colorbar": {
              "outlinewidth": 1,
              "tickcolor": "rgb(36,36,36)",
              "ticks": "outside"
             }
            },
            "type": "scattermapbox"
           }
          ],
          "scatterpolar": [
           {
            "marker": {
             "colorbar": {
              "outlinewidth": 1,
              "tickcolor": "rgb(36,36,36)",
              "ticks": "outside"
             }
            },
            "type": "scatterpolar"
           }
          ],
          "scatterpolargl": [
           {
            "marker": {
             "colorbar": {
              "outlinewidth": 1,
              "tickcolor": "rgb(36,36,36)",
              "ticks": "outside"
             }
            },
            "type": "scatterpolargl"
           }
          ],
          "scatterternary": [
           {
            "marker": {
             "colorbar": {
              "outlinewidth": 1,
              "tickcolor": "rgb(36,36,36)",
              "ticks": "outside"
             }
            },
            "type": "scatterternary"
           }
          ],
          "surface": [
           {
            "colorbar": {
             "outlinewidth": 1,
             "tickcolor": "rgb(36,36,36)",
             "ticks": "outside"
            },
            "colorscale": [
             [
              0,
              "#440154"
             ],
             [
              0.1111111111111111,
              "#482878"
             ],
             [
              0.2222222222222222,
              "#3e4989"
             ],
             [
              0.3333333333333333,
              "#31688e"
             ],
             [
              0.4444444444444444,
              "#26828e"
             ],
             [
              0.5555555555555556,
              "#1f9e89"
             ],
             [
              0.6666666666666666,
              "#35b779"
             ],
             [
              0.7777777777777778,
              "#6ece58"
             ],
             [
              0.8888888888888888,
              "#b5de2b"
             ],
             [
              1,
              "#fde725"
             ]
            ],
            "type": "surface"
           }
          ],
          "table": [
           {
            "cells": {
             "fill": {
              "color": "rgb(237,237,237)"
             },
             "line": {
              "color": "white"
             }
            },
            "header": {
             "fill": {
              "color": "rgb(217,217,217)"
             },
             "line": {
              "color": "white"
             }
            },
            "type": "table"
           }
          ]
         },
         "layout": {
          "annotationdefaults": {
           "arrowhead": 0,
           "arrowwidth": 1
          },
          "autotypenumbers": "strict",
          "coloraxis": {
           "colorbar": {
            "outlinewidth": 1,
            "tickcolor": "rgb(36,36,36)",
            "ticks": "outside"
           }
          },
          "colorscale": {
           "diverging": [
            [
             0,
             "rgb(103,0,31)"
            ],
            [
             0.1,
             "rgb(178,24,43)"
            ],
            [
             0.2,
             "rgb(214,96,77)"
            ],
            [
             0.3,
             "rgb(244,165,130)"
            ],
            [
             0.4,
             "rgb(253,219,199)"
            ],
            [
             0.5,
             "rgb(247,247,247)"
            ],
            [
             0.6,
             "rgb(209,229,240)"
            ],
            [
             0.7,
             "rgb(146,197,222)"
            ],
            [
             0.8,
             "rgb(67,147,195)"
            ],
            [
             0.9,
             "rgb(33,102,172)"
            ],
            [
             1,
             "rgb(5,48,97)"
            ]
           ],
           "sequential": [
            [
             0,
             "#440154"
            ],
            [
             0.1111111111111111,
             "#482878"
            ],
            [
             0.2222222222222222,
             "#3e4989"
            ],
            [
             0.3333333333333333,
             "#31688e"
            ],
            [
             0.4444444444444444,
             "#26828e"
            ],
            [
             0.5555555555555556,
             "#1f9e89"
            ],
            [
             0.6666666666666666,
             "#35b779"
            ],
            [
             0.7777777777777778,
             "#6ece58"
            ],
            [
             0.8888888888888888,
             "#b5de2b"
            ],
            [
             1,
             "#fde725"
            ]
           ],
           "sequentialminus": [
            [
             0,
             "#440154"
            ],
            [
             0.1111111111111111,
             "#482878"
            ],
            [
             0.2222222222222222,
             "#3e4989"
            ],
            [
             0.3333333333333333,
             "#31688e"
            ],
            [
             0.4444444444444444,
             "#26828e"
            ],
            [
             0.5555555555555556,
             "#1f9e89"
            ],
            [
             0.6666666666666666,
             "#35b779"
            ],
            [
             0.7777777777777778,
             "#6ece58"
            ],
            [
             0.8888888888888888,
             "#b5de2b"
            ],
            [
             1,
             "#fde725"
            ]
           ]
          },
          "colorway": [
           "#1F77B4",
           "#FF7F0E",
           "#2CA02C",
           "#D62728",
           "#9467BD",
           "#8C564B",
           "#E377C2",
           "#7F7F7F",
           "#BCBD22",
           "#17BECF"
          ],
          "font": {
           "color": "rgb(36,36,36)"
          },
          "geo": {
           "bgcolor": "white",
           "lakecolor": "white",
           "landcolor": "white",
           "showlakes": true,
           "showland": true,
           "subunitcolor": "white"
          },
          "hoverlabel": {
           "align": "left"
          },
          "hovermode": "closest",
          "mapbox": {
           "style": "light"
          },
          "paper_bgcolor": "white",
          "plot_bgcolor": "white",
          "polar": {
           "angularaxis": {
            "gridcolor": "rgb(232,232,232)",
            "linecolor": "rgb(36,36,36)",
            "showgrid": false,
            "showline": true,
            "ticks": "outside"
           },
           "bgcolor": "white",
           "radialaxis": {
            "gridcolor": "rgb(232,232,232)",
            "linecolor": "rgb(36,36,36)",
            "showgrid": false,
            "showline": true,
            "ticks": "outside"
           }
          },
          "scene": {
           "xaxis": {
            "backgroundcolor": "white",
            "gridcolor": "rgb(232,232,232)",
            "gridwidth": 2,
            "linecolor": "rgb(36,36,36)",
            "showbackground": true,
            "showgrid": false,
            "showline": true,
            "ticks": "outside",
            "zeroline": false,
            "zerolinecolor": "rgb(36,36,36)"
           },
           "yaxis": {
            "backgroundcolor": "white",
            "gridcolor": "rgb(232,232,232)",
            "gridwidth": 2,
            "linecolor": "rgb(36,36,36)",
            "showbackground": true,
            "showgrid": false,
            "showline": true,
            "ticks": "outside",
            "zeroline": false,
            "zerolinecolor": "rgb(36,36,36)"
           },
           "zaxis": {
            "backgroundcolor": "white",
            "gridcolor": "rgb(232,232,232)",
            "gridwidth": 2,
            "linecolor": "rgb(36,36,36)",
            "showbackground": true,
            "showgrid": false,
            "showline": true,
            "ticks": "outside",
            "zeroline": false,
            "zerolinecolor": "rgb(36,36,36)"
           }
          },
          "shapedefaults": {
           "fillcolor": "black",
           "line": {
            "width": 0
           },
           "opacity": 0.3
          },
          "ternary": {
           "aaxis": {
            "gridcolor": "rgb(232,232,232)",
            "linecolor": "rgb(36,36,36)",
            "showgrid": false,
            "showline": true,
            "ticks": "outside"
           },
           "baxis": {
            "gridcolor": "rgb(232,232,232)",
            "linecolor": "rgb(36,36,36)",
            "showgrid": false,
            "showline": true,
            "ticks": "outside"
           },
           "bgcolor": "white",
           "caxis": {
            "gridcolor": "rgb(232,232,232)",
            "linecolor": "rgb(36,36,36)",
            "showgrid": false,
            "showline": true,
            "ticks": "outside"
           }
          },
          "title": {
           "x": 0.05
          },
          "xaxis": {
           "automargin": true,
           "gridcolor": "rgb(232,232,232)",
           "linecolor": "rgb(36,36,36)",
           "showgrid": false,
           "showline": true,
           "ticks": "outside",
           "title": {
            "standoff": 15
           },
           "zeroline": false,
           "zerolinecolor": "rgb(36,36,36)"
          },
          "yaxis": {
           "automargin": true,
           "gridcolor": "rgb(232,232,232)",
           "linecolor": "rgb(36,36,36)",
           "showgrid": false,
           "showline": true,
           "ticks": "outside",
           "title": {
            "standoff": 15
           },
           "zeroline": false,
           "zerolinecolor": "rgb(36,36,36)"
          }
         }
        },
        "xaxis": {
         "anchor": "y",
         "autorange": true,
         "domain": [
          0,
          1
         ],
         "range": [
          -0.5,
          318.5
         ],
         "type": "category"
        },
        "xaxis2": {
         "anchor": "y2",
         "autorange": true,
         "domain": [
          0,
          1
         ],
         "range": [
          -0.5,
          119.5
         ],
         "type": "category"
        },
        "yaxis": {
         "anchor": "x",
         "autorange": true,
         "domain": [
          0.575,
          1
         ],
         "range": [
          0,
          1.0526315789473684
         ],
         "type": "linear"
        },
        "yaxis2": {
         "anchor": "x2",
         "autorange": true,
         "domain": [
          0,
          0.425
         ],
         "range": [
          0,
          335.7894736842105
         ],
         "type": "linear"
        }
       }
      },
      "image/png": "[encoded data removed]",
      "text/html": [
       "<div>                            <div id=\"59d0303b-f079-41b2-aa2d-40e240b25282\" class=\"plotly-graph-div\" style=\"height:600px; width:100%;\"></div>            <script type=\"text/javascript\">                require([\"plotly\"], function(Plotly) {                    window.PLOTLYENV=window.PLOTLYENV || {};                                    if (document.getElementById(\"59d0303b-f079-41b2-aa2d-40e240b25282\")) {                    Plotly.newPlot(                        \"59d0303b-f079-41b2-aa2d-40e240b25282\",                        [{\"name\":\"fraction HMMs present genome\",\"x\":[\"GCF_001721805.1\",\"GCF_019139535.1\",\"GCF_900636995.1\",\"GCF_001477425.1\",\"GCF_900105995.1\",\"GCF_000164015.3\",\"GCF_000026105.1\",\"GCF_003851985.1\",\"GCF_001482725.1\",\"GCF_011466835.1\",\"GCF_001655295.1\",\"GCF_001547915.1\",\"GCF_022559545.1\",\"GCF_013343435.1\",\"GCF_024448735.1\",\"GCF_022533565.1\",\"GCF_000012265.1\",\"GCF_002237425.1\",\"GCF_001518815.1\",\"GCF_002941105.1\",\"GCF_018388545.1\",\"GCF_900105255.1\",\"GCF_000172895.1\",\"GCF_001547955.1\",\"GCF_002951475.1\",\"GCF_000825645.2\",\"GCF_024413275.1\",\"GCF_003626995.1\",\"GCF_014268485.2\",\"GCF_003028335.1\",\"GCF_014268275.2\",\"GCF_021029445.1\",\"GCF_002355315.1\",\"GCF_017900915.1\",\"GCF_004135995.1\",\"GCF_001722025.1\",\"GCF_900235895.1\",\"GCF_024397355.1\",\"GCF_002237405.1\",\"GCF_017798225.1\",\"GCF_014268585.2\",\"GCF_000759535.1\",\"GCF_009911735.1\",\"GCF_001722005.2\",\"GCF_016105505.1\",\"GCF_002356535.2\",\"GCF_001297075.1\",\"GCF_002208645.1\",\"GCF_002741095.1\",\"GCF_014854655.1\",\"GCF_000293885.2\",\"GCF_900106015.1\",\"GCF_008033765.1\",\"GCF_013374995.1\",\"GCF_016105665.1\",\"GCF_022453825.1\",\"GCF_023277925.1\",\"GCF_019141525.1\",\"GCF_001605965.1\",\"GCF_002905795.1\",\"GCF_013343535.1\",\"GCF_013200955.1\",\"GCF_002205355.1\",\"GCF_011765175.1\",\"GCF_900106045.1\",\"GCA_001077675.1\",\"GCF_003851145.1\",\"GCF_014268375.2\",\"GCF_013403585.1\",\"GCF_000009225.2\",\"GCF_003047185.1\",\"GCF_012971725.1\",\"GCF_016743035.1\",\"GCF_001400495.1\",\"GCF_000349845.1\",\"GCF_009755645.1\",\"GCF_001708505.1\",\"GCF_009362955.1\",\"GCF_009497895.1\",\"GCF_002104615.1\",\"GCF_022807995.1\",\"GCF_000813225.1\",\"GCF_003850385.1\",\"GCF_003851385.1\",\"GCF_002966835.1\",\"GCF_024397895.1\",\"GCF_000145845.2\",\"GCF_900626055.1\",\"GCF_013425825.1\",\"GCF_014863585.1\",\"GCF_019139675.1\",\"GCF_001547895.1\",\"GCF_001543125.1\",\"GCF_001722045.1\",\"GCF_014076455.1\",\"GCF_009740185.1\",\"GCF_007833495.1\",\"GCF_002024285.1\",\"GCF_900601635.1\",\"GCF_000761155.1\",\"GCF_002223805.1\",\"GCF_012971705.1\",\"GCF_002884415.1\",\"GCF_900105485.1\",\"GCF_000145845.1\",\"GCF_024760445.1\",\"GCF_019139795.1\",\"GCF_022870785.1\",\"GCF_000237045.1\",\"GCF_001515585.1\",\"GCF_009676885.1\",\"GCF_002104595.1\",\"GCF_001594225.1\",\"GCF_004745455.1\",\"GCF_001042905.1\",\"GCF_009911755.1\",\"GCF_014855475.1\",\"GCF_001839655.2\",\"GCF_019879085.1\",\"GCF_014863605.1\",\"GCF_001721785.1\",\"GCF_900625045.1\",\"GCF_021601925.1\",\"GCF_002205335.1\",\"GCF_001647715.1\",\"GCF_000006765.1\",\"GCF_001721745.1\",\"GCF_900104915.1\",\"GCF_000504045.1\",\"GCF_002085755.1\",\"GCF_003700835.1\",\"GCF_001661075.1\",\"GCF_000344475.3\",\"GCF_001721765.1\",\"GCF_025452135.1\",\"GCF_001020725.2\",\"GCF_008801455.1\",\"GCF_004348895.1\",\"GCF_002943995.1\",\"GCF_003671865.1\",\"GCF_001874465.1\",\"GCF_001412045.1\",\"GCF_900188285.1\",\"GCF_000319815.1\",\"GCF_901482615.1\",\"GCF_021495345.1\",\"GCF_020424105.1\",\"GCF_900105655.1\",\"GCF_003850425.1\",\"GCF_017167965.1\",\"GCF_001449085.1\",\"GCF_020025155.1\",\"GCF_030028275.1\",\"GCF_021725455.1\",\"GCF_900104945.1\",\"GCF_022557235.1\",\"GCF_000397205.1\",\"GCF_000568855.2\",\"GCF_000524595.1\",\"GCF_016105885.1\",\"GCF_000452705.1\",\"GCF_003060845.1\",\"GCF_020422905.1\",\"GCF_022026035.1\",\"GCF_002287865.1\",\"GCF_002192495.1\",\"GCF_000327065.1\",\"GCF_001721825.1\",\"GCF_001655595.1\",\"GCF_026727755.1\",\"GCF_004355125.1\",\"GCF_002007785.1\",\"GCF_001730655.1\",\"GCF_003699955.1\",\"GCF_003410335.1\",\"GCF_000828695.1\",\"GCF_017915135.1\",\"GCF_021233455.1\",\"GCF_000007805.1\",\"GCF_003699405.1\",\"GCF_000816985.1\",\"GCF_000017205.1\",\"GCF_000510285.1\",\"GCF_008033725.1\",\"GCF_030388285.1\",\"GCF_002411865.3\",\"GCF_019693255.1\",\"GCF_022569995.1\",\"GCF_000452445.2\",\"GCF_002864795.1\",\"GCF_000746525.1\",\"GCF_900105885.1\",\"GCF_000146005.2\",\"GCF_013409125.2\",\"GCF_900636845.1\",\"GCF_021398855.1\",\"GCF_000988485.1\",\"GCF_003369755.1\",\"GCF_021432765.1\",\"GCF_030369855.1\",\"GCF_003940825.1\",\"GCF_019139815.1\",\"GCF_002442555.1\",\"GCF_002085605.1\",\"GCF_024266805.1\",\"GCF_002736065.1\",\"GCF_014268455.2\",\"GCF_022569895.1\",\"GCF_003369775.1\",\"GCF_000829885.1\",\"GCF_016599635.1\",\"GCF_011397855.1\",\"GCF_023272755.1\",\"GCF_011040435.1\",\"GCF_004355145.1\",\"GCF_000510305.1\",\"GCF_000452745.2\",\"GCF_002946935.1\",\"GCF_008693965.1\",\"GCF_001606045.1\",\"GCF_026727715.1\",\"GCF_900105005.1\",\"GCF_014268885.2\",\"GCF_003852025.1\",\"GCA_000014625.1\",\"GCF_002192475.1\",\"GCF_900475285.1\",\"GCF_013347965.1\",\"GCF_020204845.1\",\"GCF_026727735.1\",\"GCF_000496455.2\",\"GCF_018417575.1\",\"GCF_019285655.1\",\"GCF_000014625.1\",\"GCF_000204295.1\",\"GCF_003206535.1\",\"GCF_000013785.1\",\"GCF_000219605.1\",\"GCF_005080685.1\",\"GCF_001721845.1\",\"GCF_002966555.1\",\"GCF_004683905.1\",\"GCF_900104805.1\",\"GCF_014268755.2\",\"GCF_021249245.1\",\"GCF_000508765.1\",\"GCF_020917325.1\",\"GCF_003415775.1\",\"GCF_000271365.1\",\"GCF_022453765.1\",\"GCF_019614655.1\",\"GCF_003369735.1\",\"GCF_001655615.1\",\"GCF_008370715.1\",\"GCF_014268695.2\",\"GCF_002091695.1\",\"GCF_019139855.1\",\"GCF_026727695.1\",\"GCF_002980135.1\",\"GCF_000026645.1\",\"GCF_900116605.1\",\"GCF_009648875.1\",\"GCF_008801565.1\",\"GCF_022569935.1\",\"GCF_019139835.1\",\"GCF_021389915.1\",\"GCF_019139895.1\",\"GCF_001269655.1\",\"GCF_021605025.1\",\"GCF_023207855.1\",\"GCF_014269225.2\",\"GCF_002362295.1\",\"GCF_024072295.1\",\"GCF_001679685.1\",\"GCF_000696345.2\",\"GCF_008033745.1\",\"GCF_015476275.1\",\"GCF_000145885.1\",\"GCF_900475215.1\",\"GCF_021654315.1\",\"GCF_002318885.1\",\"GCF_019334485.1\",\"GCF_013343475.1\",\"GCF_002205375.1\",\"GCF_000473745.2\",\"GCF_000194805.1\",\"GCF_005281455.1\",\"GCF_016861485.1\",\"GCF_900682675.1\",\"GCF_001682515.1\",\"GCF_000046845.1\",\"GCF_000413935.1\",\"GCF_024023035.1\",\"GCF_001708425.1\",\"GCF_003413075.1\",\"GCF_001447845.1\",\"GCF_013911125.1\",\"GCF_009903285.1\",\"GCF_022510205.1\",\"GCF_001750705.1\",\"GCF_014269025.1\",\"GCF_002688705.1\",\"GCF_014656565.1\",\"GCF_001400675.1\",\"GCF_022049085.1\",\"GCF_014268595.1\",\"GCF_017166425.1\",\"GCF_014522265.1\",\"GCF_019719375.1\",\"GCF_013393345.1\",\"GCF_014268445.1\",\"GCF_014190825.1\",\"GCF_013778535.1\",\"GCF_004124255.1\",\"GCF_014268495.1\",\"GCF_015712065.1\",\"GCF_016134935.1\",\"GCF_000280575.1\",\"GCF_001641345.1\"],\"y\":[1.0,1.0,1.0,1.0,1.0,1.0,1.0,1.0,1.0,1.0,1.0,1.0,1.0,1.0,1.0,1.0,1.0,1.0,1.0,1.0,1.0,1.0,1.0,1.0,1.0,1.0,1.0,1.0,1.0,1.0,1.0,1.0,1.0,1.0,1.0,1.0,1.0,1.0,1.0,1.0,1.0,1.0,1.0,1.0,1.0,1.0,1.0,1.0,1.0,1.0,1.0,1.0,1.0,1.0,1.0,1.0,1.0,1.0,1.0,1.0,1.0,1.0,1.0,1.0,1.0,1.0,1.0,1.0,1.0,1.0,1.0,1.0,1.0,1.0,1.0,1.0,1.0,1.0,1.0,1.0,1.0,1.0,1.0,1.0,1.0,1.0,1.0,1.0,1.0,1.0,1.0,1.0,1.0,1.0,1.0,1.0,1.0,1.0,1.0,1.0,1.0,1.0,1.0,1.0,1.0,1.0,1.0,1.0,1.0,1.0,1.0,1.0,1.0,1.0,1.0,1.0,1.0,1.0,1.0,1.0,1.0,1.0,1.0,1.0,1.0,1.0,1.0,1.0,1.0,1.0,1.0,1.0,1.0,1.0,1.0,1.0,1.0,1.0,1.0,1.0,1.0,1.0,1.0,1.0,1.0,1.0,1.0,1.0,1.0,1.0,1.0,1.0,1.0,1.0,1.0,1.0,1.0,1.0,1.0,1.0,1.0,1.0,1.0,1.0,1.0,1.0,1.0,1.0,1.0,1.0,1.0,1.0,1.0,1.0,1.0,1.0,1.0,1.0,1.0,1.0,1.0,1.0,1.0,1.0,1.0,1.0,1.0,1.0,1.0,1.0,1.0,1.0,1.0,1.0,1.0,1.0,1.0,1.0,1.0,1.0,1.0,1.0,1.0,1.0,1.0,1.0,1.0,1.0,1.0,1.0,1.0,1.0,1.0,1.0,1.0,1.0,1.0,1.0,1.0,1.0,1.0,1.0,1.0,1.0,1.0,1.0,1.0,1.0,1.0,1.0,1.0,1.0,1.0,1.0,1.0,1.0,1.0,1.0,1.0,1.0,1.0,1.0,1.0,1.0,1.0,1.0,1.0,1.0,1.0,1.0,1.0,1.0,1.0,1.0,1.0,1.0,1.0,1.0,1.0,1.0,1.0,1.0,1.0,1.0,1.0,1.0,1.0,1.0,1.0,1.0,1.0,1.0,1.0,1.0,1.0,1.0,1.0,0.9916666666666667,0.9916666666666667,0.9916666666666667,0.9916666666666667,0.9916666666666667,0.9916666666666667,0.9916666666666667,0.9916666666666667,0.9916666666666667,0.9916666666666667,0.9916666666666667,0.9916666666666667,0.9916666666666667,0.9916666666666667,0.9916666666666667,0.9833333333333333,0.9833333333333333,0.9833333333333333,0.9833333333333333,0.975,0.975,0.975,0.975,0.9666666666666667,0.9666666666666667,0.9666666666666667,0.9666666666666667,0.9666666666666667,0.9666666666666667,0.9583333333333334,0.9583333333333334,0.9583333333333334,0.9583333333333334,0.9583333333333334,0.9583333333333334,0.9583333333333334,0.9583333333333334,0.95,0.9416666666666667,0.9333333333333333,0.925,0.85],\"type\":\"bar\",\"xaxis\":\"x\",\"yaxis\":\"y\"},{\"name\":\"# genomes contianing HMM\",\"x\":[\"TIGR00043.2\",\"TIGR00445.1\",\"TIGR00635.1\",\"TIGR00382.1\",\"TIGR00959.1\",\"TIGR03654.1\",\"TIGR00487.1\",\"TIGR00054.1\",\"TIGR01011.1\",\"TIGR00964.1\",\"TIGR01066.1\",\"TIGR03725.1\",\"TIGR00539.1\",\"TIGR03263.1\",\"TIGR01082.1\",\"TIGR00416.1\",\"TIGR00420.1\",\"TIGR00082.1\",\"TIGR00414.1\",\"TIGR00020.2\",\"TIGR00065.1\",\"TIGR01171.1\",\"TIGR01632.1\",\"TIGR00362.1\",\"TIGR01063.1\",\"TIGR02350.1\",\"TIGR00061.1\",\"TIGR00435.1\",\"TIGR00019.1\",\"TIGR00064.1\",\"TIGR01021.1\",\"TIGR00158.1\",\"TIGR00398.1\",\"TIGR00967.1\",\"TIGR01039.1\",\"TIGR02397.1\",\"TIGR00059.1\",\"TIGR02075.1\",\"TIGR01087.1\",\"TIGR00186.1\",\"TIGR01951.1\",\"TIGR03594.1\",\"TIGR00396.1\",\"TIGR00663.1\",\"TIGR03723.1\",\"TIGR00442.1\",\"TIGR00392.1\",\"TIGR01032.1\",\"TIGR02729.1\",\"TIGR01164.1\",\"TIGR00631.1\",\"TIGR00459.1\",\"TIGR01044.1\",\"TIGR00138.1\",\"TIGR01029.1\",\"TIGR00436.1\",\"TIGR00643.1\",\"TIGR00337.1\",\"PF00410.23\",\"TIGR00928.1\",\"PF00380.23\",\"TIGR00095.1\",\"TIGR01394.1\",\"TIGR00092.1\",\"TIGR01071.1\",\"TIGR00090.1\",\"TIGR01393.1\",\"TIGR00250.1\",\"TIGR00580.1\",\"TIGR01302.1\",\"TIGR00460.1\",\"TIGR00116.1\",\"TIGR03625.1\",\"TIGR00496.1\",\"TIGR01079.1\",\"TIGR01059.1\",\"TIGR01510.1\",\"TIGR00166.1\",\"TIGR00717.1\",\"TIGR02273.1\",\"TIGR00456.1\",\"TIGR02432.1\",\"TIGR01953.1\",\"TIGR00755.1\",\"TIGR00344.1\",\"TIGR03632.1\",\"TIGR00810.1\",\"TIGR00168.2\",\"TIGR01017.1\",\"TIGR03953.1\",\"TIGR01169.1\",\"TIGR00115.1\",\"TIGR00083.1\",\"TIGR00468.1\",\"TIGR01146.1\",\"TIGR02012.1\",\"TIGR00963.1\",\"TIGR00431.1\",\"TIGR00634.1\",\"TIGR00086.1\",\"TIGR00615.1\",\"TIGR00472.1\",\"TIGR02386.1\",\"TIGR02027.1\",\"PF02576.21\",\"TIGR01391.1\",\"TIGR00593.1\",\"TIGR02013.1\",\"TIGR00088.1\",\"PF01025.23\",\"TIGR01009.1\",\"TIGR00194.1\",\"TIGR01128.1\",\"TIGR00922.1\",\"TIGR00084.2\",\"TIGR02191.1\",\"TIGR00006.1\",\"TIGR00029.2\",\"PF00466.24\",\"PF03726.18\"],\"y\":[319,319,319,319,319,319,319,319,319,319,319,319,319,319,319,319,319,319,319,319,319,319,319,319,319,319,319,319,319,319,319,319,319,319,319,319,319,319,319,319,319,319,319,319,319,319,319,319,319,319,319,319,319,319,319,319,319,319,319,319,319,319,319,319,319,319,319,319,319,319,319,319,319,318,318,318,318,318,318,318,318,318,318,318,318,318,318,318,318,318,318,318,318,317,317,317,317,317,317,316,316,316,316,316,316,316,316,316,315,315,315,315,315,314,314,310,310,309,306,302],\"type\":\"bar\",\"xaxis\":\"x2\",\"yaxis\":\"y2\"}],                        {\"template\":{\"data\":{\"barpolar\":[{\"marker\":{\"line\":{\"color\":\"white\",\"width\":0.5},\"pattern\":{\"fillmode\":\"overlay\",\"size\":10,\"solidity\":0.2}},\"type\":\"barpolar\"}],\"bar\":[{\"error_x\":{\"color\":\"rgb(36,36,36)\"},\"error_y\":{\"color\":\"rgb(36,36,36)\"},\"marker\":{\"line\":{\"color\":\"white\",\"width\":0.5},\"pattern\":{\"fillmode\":\"overlay\",\"size\":10,\"solidity\":0.2}},\"type\":\"bar\"}],\"carpet\":[{\"aaxis\":{\"endlinecolor\":\"rgb(36,36,36)\",\"gridcolor\":\"white\",\"linecolor\":\"white\",\"minorgridcolor\":\"white\",\"startlinecolor\":\"rgb(36,36,36)\"},\"baxis\":{\"endlinecolor\":\"rgb(36,36,36)\",\"gridcolor\":\"white\",\"linecolor\":\"white\",\"minorgridcolor\":\"white\",\"startlinecolor\":\"rgb(36,36,36)\"},\"type\":\"carpet\"}],\"choropleth\":[{\"colorbar\":{\"outlinewidth\":1,\"tickcolor\":\"rgb(36,36,36)\",\"ticks\":\"outside\"},\"type\":\"choropleth\"}],\"contourcarpet\":[{\"colorbar\":{\"outlinewidth\":1,\"tickcolor\":\"rgb(36,36,36)\",\"ticks\":\"outside\"},\"type\":\"contourcarpet\"}],\"contour\":[{\"colorbar\":{\"outlinewidth\":1,\"tickcolor\":\"rgb(36,36,36)\",\"ticks\":\"outside\"},\"colorscale\":[[0.0,\"#440154\"],[0.1111111111111111,\"#482878\"],[0.2222222222222222,\"#3e4989\"],[0.3333333333333333,\"#31688e\"],[0.4444444444444444,\"#26828e\"],[0.5555555555555556,\"#1f9e89\"],[0.6666666666666666,\"#35b779\"],[0.7777777777777778,\"#6ece58\"],[0.8888888888888888,\"#b5de2b\"],[1.0,\"#fde725\"]],\"type\":\"contour\"}],\"heatmapgl\":[{\"colorbar\":{\"outlinewidth\":1,\"tickcolor\":\"rgb(36,36,36)\",\"ticks\":\"outside\"},\"colorscale\":[[0.0,\"#440154\"],[0.1111111111111111,\"#482878\"],[0.2222222222222222,\"#3e4989\"],[0.3333333333333333,\"#31688e\"],[0.4444444444444444,\"#26828e\"],[0.5555555555555556,\"#1f9e89\"],[0.6666666666666666,\"#35b779\"],[0.7777777777777778,\"#6ece58\"],[0.8888888888888888,\"#b5de2b\"],[1.0,\"#fde725\"]],\"type\":\"heatmapgl\"}],\"heatmap\":[{\"colorbar\":{\"outlinewidth\":1,\"tickcolor\":\"rgb(36,36,36)\",\"ticks\":\"outside\"},\"colorscale\":[[0.0,\"#440154\"],[0.1111111111111111,\"#482878\"],[0.2222222222222222,\"#3e4989\"],[0.3333333333333333,\"#31688e\"],[0.4444444444444444,\"#26828e\"],[0.5555555555555556,\"#1f9e89\"],[0.6666666666666666,\"#35b779\"],[0.7777777777777778,\"#6ece58\"],[0.8888888888888888,\"#b5de2b\"],[1.0,\"#fde725\"]],\"type\":\"heatmap\"}],\"histogram2dcontour\":[{\"colorbar\":{\"outlinewidth\":1,\"tickcolor\":\"rgb(36,36,36)\",\"ticks\":\"outside\"},\"colorscale\":[[0.0,\"#440154\"],[0.1111111111111111,\"#482878\"],[0.2222222222222222,\"#3e4989\"],[0.3333333333333333,\"#31688e\"],[0.4444444444444444,\"#26828e\"],[0.5555555555555556,\"#1f9e89\"],[0.6666666666666666,\"#35b779\"],[0.7777777777777778,\"#6ece58\"],[0.8888888888888888,\"#b5de2b\"],[1.0,\"#fde725\"]],\"type\":\"histogram2dcontour\"}],\"histogram2d\":[{\"colorbar\":{\"outlinewidth\":1,\"tickcolor\":\"rgb(36,36,36)\",\"ticks\":\"outside\"},\"colorscale\":[[0.0,\"#440154\"],[0.1111111111111111,\"#482878\"],[0.2222222222222222,\"#3e4989\"],[0.3333333333333333,\"#31688e\"],[0.4444444444444444,\"#26828e\"],[0.5555555555555556,\"#1f9e89\"],[0.6666666666666666,\"#35b779\"],[0.7777777777777778,\"#6ece58\"],[0.8888888888888888,\"#b5de2b\"],[1.0,\"#fde725\"]],\"type\":\"histogram2d\"}],\"histogram\":[{\"marker\":{\"line\":{\"color\":\"white\",\"width\":0.6}},\"type\":\"histogram\"}],\"mesh3d\":[{\"colorbar\":{\"outlinewidth\":1,\"tickcolor\":\"rgb(36,36,36)\",\"ticks\":\"outside\"},\"type\":\"mesh3d\"}],\"parcoords\":[{\"line\":{\"colorbar\":{\"outlinewidth\":1,\"tickcolor\":\"rgb(36,36,36)\",\"ticks\":\"outside\"}},\"type\":\"parcoords\"}],\"pie\":[{\"automargin\":true,\"type\":\"pie\"}],\"scatter3d\":[{\"line\":{\"colorbar\":{\"outlinewidth\":1,\"tickcolor\":\"rgb(36,36,36)\",\"ticks\":\"outside\"}},\"marker\":{\"colorbar\":{\"outlinewidth\":1,\"tickcolor\":\"rgb(36,36,36)\",\"ticks\":\"outside\"}},\"type\":\"scatter3d\"}],\"scattercarpet\":[{\"marker\":{\"colorbar\":{\"outlinewidth\":1,\"tickcolor\":\"rgb(36,36,36)\",\"ticks\":\"outside\"}},\"type\":\"scattercarpet\"}],\"scattergeo\":[{\"marker\":{\"colorbar\":{\"outlinewidth\":1,\"tickcolor\":\"rgb(36,36,36)\",\"ticks\":\"outside\"}},\"type\":\"scattergeo\"}],\"scattergl\":[{\"marker\":{\"colorbar\":{\"outlinewidth\":1,\"tickcolor\":\"rgb(36,36,36)\",\"ticks\":\"outside\"}},\"type\":\"scattergl\"}],\"scattermapbox\":[{\"marker\":{\"colorbar\":{\"outlinewidth\":1,\"tickcolor\":\"rgb(36,36,36)\",\"ticks\":\"outside\"}},\"type\":\"scattermapbox\"}],\"scatterpolargl\":[{\"marker\":{\"colorbar\":{\"outlinewidth\":1,\"tickcolor\":\"rgb(36,36,36)\",\"ticks\":\"outside\"}},\"type\":\"scatterpolargl\"}],\"scatterpolar\":[{\"marker\":{\"colorbar\":{\"outlinewidth\":1,\"tickcolor\":\"rgb(36,36,36)\",\"ticks\":\"outside\"}},\"type\":\"scatterpolar\"}],\"scatter\":[{\"fillpattern\":{\"fillmode\":\"overlay\",\"size\":10,\"solidity\":0.2},\"type\":\"scatter\"}],\"scatterternary\":[{\"marker\":{\"colorbar\":{\"outlinewidth\":1,\"tickcolor\":\"rgb(36,36,36)\",\"ticks\":\"outside\"}},\"type\":\"scatterternary\"}],\"surface\":[{\"colorbar\":{\"outlinewidth\":1,\"tickcolor\":\"rgb(36,36,36)\",\"ticks\":\"outside\"},\"colorscale\":[[0.0,\"#440154\"],[0.1111111111111111,\"#482878\"],[0.2222222222222222,\"#3e4989\"],[0.3333333333333333,\"#31688e\"],[0.4444444444444444,\"#26828e\"],[0.5555555555555556,\"#1f9e89\"],[0.6666666666666666,\"#35b779\"],[0.7777777777777778,\"#6ece58\"],[0.8888888888888888,\"#b5de2b\"],[1.0,\"#fde725\"]],\"type\":\"surface\"}],\"table\":[{\"cells\":{\"fill\":{\"color\":\"rgb(237,237,237)\"},\"line\":{\"color\":\"white\"}},\"header\":{\"fill\":{\"color\":\"rgb(217,217,217)\"},\"line\":{\"color\":\"white\"}},\"type\":\"table\"}]},\"layout\":{\"annotationdefaults\":{\"arrowhead\":0,\"arrowwidth\":1},\"autotypenumbers\":\"strict\",\"coloraxis\":{\"colorbar\":{\"outlinewidth\":1,\"tickcolor\":\"rgb(36,36,36)\",\"ticks\":\"outside\"}},\"colorscale\":{\"diverging\":[[0.0,\"rgb(103,0,31)\"],[0.1,\"rgb(178,24,43)\"],[0.2,\"rgb(214,96,77)\"],[0.3,\"rgb(244,165,130)\"],[0.4,\"rgb(253,219,199)\"],[0.5,\"rgb(247,247,247)\"],[0.6,\"rgb(209,229,240)\"],[0.7,\"rgb(146,197,222)\"],[0.8,\"rgb(67,147,195)\"],[0.9,\"rgb(33,102,172)\"],[1.0,\"rgb(5,48,97)\"]],\"sequential\":[[0.0,\"#440154\"],[0.1111111111111111,\"#482878\"],[0.2222222222222222,\"#3e4989\"],[0.3333333333333333,\"#31688e\"],[0.4444444444444444,\"#26828e\"],[0.5555555555555556,\"#1f9e89\"],[0.6666666666666666,\"#35b779\"],[0.7777777777777778,\"#6ece58\"],[0.8888888888888888,\"#b5de2b\"],[1.0,\"#fde725\"]],\"sequentialminus\":[[0.0,\"#440154\"],[0.1111111111111111,\"#482878\"],[0.2222222222222222,\"#3e4989\"],[0.3333333333333333,\"#31688e\"],[0.4444444444444444,\"#26828e\"],[0.5555555555555556,\"#1f9e89\"],[0.6666666666666666,\"#35b779\"],[0.7777777777777778,\"#6ece58\"],[0.8888888888888888,\"#b5de2b\"],[1.0,\"#fde725\"]]},\"colorway\":[\"#1F77B4\",\"#FF7F0E\",\"#2CA02C\",\"#D62728\",\"#9467BD\",\"#8C564B\",\"#E377C2\",\"#7F7F7F\",\"#BCBD22\",\"#17BECF\"],\"font\":{\"color\":\"rgb(36,36,36)\"},\"geo\":{\"bgcolor\":\"white\",\"lakecolor\":\"white\",\"landcolor\":\"white\",\"showlakes\":true,\"showland\":true,\"subunitcolor\":\"white\"},\"hoverlabel\":{\"align\":\"left\"},\"hovermode\":\"closest\",\"mapbox\":{\"style\":\"light\"},\"paper_bgcolor\":\"white\",\"plot_bgcolor\":\"white\",\"polar\":{\"angularaxis\":{\"gridcolor\":\"rgb(232,232,232)\",\"linecolor\":\"rgb(36,36,36)\",\"showgrid\":false,\"showline\":true,\"ticks\":\"outside\"},\"bgcolor\":\"white\",\"radialaxis\":{\"gridcolor\":\"rgb(232,232,232)\",\"linecolor\":\"rgb(36,36,36)\",\"showgrid\":false,\"showline\":true,\"ticks\":\"outside\"}},\"scene\":{\"xaxis\":{\"backgroundcolor\":\"white\",\"gridcolor\":\"rgb(232,232,232)\",\"gridwidth\":2,\"linecolor\":\"rgb(36,36,36)\",\"showbackground\":true,\"showgrid\":false,\"showline\":true,\"ticks\":\"outside\",\"zeroline\":false,\"zerolinecolor\":\"rgb(36,36,36)\"},\"yaxis\":{\"backgroundcolor\":\"white\",\"gridcolor\":\"rgb(232,232,232)\",\"gridwidth\":2,\"linecolor\":\"rgb(36,36,36)\",\"showbackground\":true,\"showgrid\":false,\"showline\":true,\"ticks\":\"outside\",\"zeroline\":false,\"zerolinecolor\":\"rgb(36,36,36)\"},\"zaxis\":{\"backgroundcolor\":\"white\",\"gridcolor\":\"rgb(232,232,232)\",\"gridwidth\":2,\"linecolor\":\"rgb(36,36,36)\",\"showbackground\":true,\"showgrid\":false,\"showline\":true,\"ticks\":\"outside\",\"zeroline\":false,\"zerolinecolor\":\"rgb(36,36,36)\"}},\"shapedefaults\":{\"fillcolor\":\"black\",\"line\":{\"width\":0},\"opacity\":0.3},\"ternary\":{\"aaxis\":{\"gridcolor\":\"rgb(232,232,232)\",\"linecolor\":\"rgb(36,36,36)\",\"showgrid\":false,\"showline\":true,\"ticks\":\"outside\"},\"baxis\":{\"gridcolor\":\"rgb(232,232,232)\",\"linecolor\":\"rgb(36,36,36)\",\"showgrid\":false,\"showline\":true,\"ticks\":\"outside\"},\"bgcolor\":\"white\",\"caxis\":{\"gridcolor\":\"rgb(232,232,232)\",\"linecolor\":\"rgb(36,36,36)\",\"showgrid\":false,\"showline\":true,\"ticks\":\"outside\"}},\"title\":{\"x\":0.05},\"xaxis\":{\"automargin\":true,\"gridcolor\":\"rgb(232,232,232)\",\"linecolor\":\"rgb(36,36,36)\",\"showgrid\":false,\"showline\":true,\"ticks\":\"outside\",\"title\":{\"standoff\":15},\"zeroline\":false,\"zerolinecolor\":\"rgb(36,36,36)\"},\"yaxis\":{\"automargin\":true,\"gridcolor\":\"rgb(232,232,232)\",\"linecolor\":\"rgb(36,36,36)\",\"showgrid\":false,\"showline\":true,\"ticks\":\"outside\",\"title\":{\"standoff\":15},\"zeroline\":false,\"zerolinecolor\":\"rgb(36,36,36)\"}}},\"xaxis\":{\"anchor\":\"y\",\"domain\":[0.0,1.0]},\"yaxis\":{\"anchor\":\"x\",\"domain\":[0.575,1.0]},\"xaxis2\":{\"anchor\":\"y2\",\"domain\":[0.0,1.0]},\"yaxis2\":{\"anchor\":\"x2\",\"domain\":[0.0,0.425]},\"height\":600},                        {\"responsive\": true}                    ).then(function(){\n",
       "                            \n",
       "var gd = document.getElementById('59d0303b-f079-41b2-aa2d-40e240b25282');\n",
       "var x = new MutationObserver(function (mutations, observer) {{\n",
       "        var display = window.getComputedStyle(gd).display;\n",
       "        if (!display || display === 'none') {{\n",
       "            console.log([gd, 'removed!']);\n",
       "            Plotly.purge(gd);\n",
       "            observer.disconnect();\n",
       "        }}\n",
       "}});\n",
       "\n",
       "// Listen for the removal of the full notebook cells\n",
       "var notebookContainer = gd.closest('#notebook-container');\n",
       "if (notebookContainer) {{\n",
       "    x.observe(notebookContainer, {childList: true});\n",
       "}}\n",
       "\n",
       "// Listen for the clearing of the current output cell\n",
       "var outputEl = gd.closest('.output');\n",
       "if (outputEl) {{\n",
       "    x.observe(outputEl, {childList: true});\n",
       "}}\n",
       "\n",
       "                        })                };                });            </script>        </div>"
      ]
     },
     "metadata": {},
     "output_type": "display_data"
    }
   ],
   "source": [
    "qc_fig = make_subplots(rows=2, cols=1,)\n",
    "hmm_pres_s = pres_abs_df.sum().sort_values(ascending=False)\n",
    "genome_pres_s = (pres_abs_df.sum(axis=1)/len(hmm_bac120_ids)).sort_values(ascending=False)\n",
    "hmm_trace = go.Bar(x=hmm_pres_s.index, y = hmm_pres_s, name='# genomes contianing HMM')\n",
    "g_trace = go.Bar(x=genome_pres_s.index, y = genome_pres_s, name='fraction HMMs present genome')\n",
    "qc_fig.add_trace(g_trace, row=1, col=1, )\n",
    "qc_fig.add_trace(hmm_trace, row=2, col=1, )\n",
    "qc_fig.update_layout(template='simple_white', height=600)\n",
    "remove = list(genome_pres_s.index[-20:])\n",
    "qc_fig"
   ]
  },
  {
   "cell_type": "code",
   "execution_count": 133,
   "id": "d25824d7-636b-4ef9-b189-b4af7f9e0b74",
   "metadata": {},
   "outputs": [],
   "source": [
    "def remove_pp_lines(hmm_alignment_fp):\n",
    "    \"\"\"\"\"\"\n",
    "    new_aln = []\n",
    "    new_aln_d = {}\n",
    "    with open(hmm_alignment_fp, 'r') as f:\n",
    "        for line in f:\n",
    "            if line[0] != '#':\n",
    "                if len(line) > 5:\n",
    "                    if line[0] != '/':\n",
    "                        line_lst = line.strip().split(' ')\n",
    "                        seq = line_lst[-1].replace('.', '-')\n",
    "                        new_aln_d[line_lst[0]] = seq.upper()\n",
    "    return new_aln_d\n",
    "    \n",
    "    \n",
    "def write_reformatted_aln_file(sto_alignment_fp, homogeneos_thresh=0.98, gap_threshold=0.8):\n",
    "    \"\"\"\"\"\"\n",
    "    reformatted_alinged_d = remove_pp_lines(sto_alignment_fp)\n",
    "    trimmed_seq_d= au.remove_homogeneous_cols(reformatted_alinged_d, threshold=homogeneos_thresh)\n",
    "    trimmed_seq_d = au.remove_gappy_columns(trimmed_seq_d, threshold=gap_threshold)\n",
    "    reformatted_align_fp = sto_alignment_fp.replace('sto', 'sto.simple')\n",
    "    pfa.write_to_fasta(trimmed_seq_d, reformatted_align_fp)\n",
    "    return trimmed_seq_d\n",
    "\n",
    "\n",
    "simple_aln_fps = []\n",
    "for fp in sto_fps: \n",
    "    reformatted_alinged_d = write_reformatted_aln_file(fp)\n",
    "    seq_d = pfa.get_seq_dict(fp)\n",
    "\n",
    "    simple_aln_fps.append(fp.replace('sto', 'sto.simple'))\n",
    "    "
   ]
  },
  {
   "cell_type": "code",
   "execution_count": 134,
   "id": "6df20a1c-ed0b-4d23-a50a-64c455878dc8",
   "metadata": {},
   "outputs": [],
   "source": [
    "from Bio import SeqIO\n",
    "import os\n",
    "from collections import defaultdict\n",
    "curated_accs = set(names).difference(remove)\n",
    "# Path to the directory with 120 aligned FASTA files\n",
    "fasta_dir = './fastTree/hmm_alignments'\n",
    "# Dictionary to store concatenated sequences for each genome\n",
    "concatenated_sequences = defaultdict(str)\n",
    "# Get a list of all FASTA files in the directory\n",
    "fasta_files = sorted([f for f in os.listdir(fasta_dir) if f.endswith('.simple')])\n",
    "\n",
    "# Loop over each FASTA file and concatenate sequences by genome accession\n",
    "for fasta_file in fasta_files[:30]:\n",
    "    fasta_path = os.path.join(fasta_dir, fasta_file)\n",
    "    seq_d = pfa.get_seq_dict(fasta_path)\n",
    "    aln_len = len(seq_d[list(seq_d.keys())[0]])\n",
    "    for acc in curated_accs:\n",
    "        seq = seq_d.get(acc, '-'*aln_len)\n",
    "        concatenated_sequences[acc] += seq\n",
    "\n",
    "# Write the concatenated sequences to a new FASTA file\n",
    "output_fasta = './fastTree/concatenated_alignment.fasta'\n",
    "with open(output_fasta, 'w') as output_handle:\n",
    "    for genome_accession, concatenated_seq in concatenated_sequences.items():\n",
    "        output_handle.write(f'>{genome_accession}\\n')\n",
    "        output_handle.write(f'{concatenated_seq}\\n')"
   ]
  },
  {
   "cell_type": "code",
   "execution_count": 52,
   "id": "a30ca869-addb-48f1-8658-ba8a47726d07",
   "metadata": {},
   "outputs": [],
   "source": []
  },
  {
   "cell_type": "code",
   "execution_count": 135,
   "id": "5e7a144c-b332-4b81-b615-c3d98eae5525",
   "metadata": {},
   "outputs": [
    {
     "name": "stdout",
     "output_type": "stream",
     "text": [
      "FastTree Version 2.1.11 Double precision (No SSE3)\n",
      "Alignment: fastTree/concatenated_alignment.fasta\n",
      "Amino acid distances: BLOSUM45 Joins: balanced Support: SH-like 1000\n",
      "Search: Normal +NNI +SPR (2 rounds range 10) +ML-NNI opt-each=1\n",
      "TopHits: 1.00*sqrtN close=default refresh=0.80\n",
      "ML Model: Jones-Taylor-Thorton, CAT approximation with 20 rate categories\n",
      "Ignored unknown character X (seen 1 times)\n",
      "Initial topology in 1.08 seconds0 of    265   268 seqs (at seed    200)   \n",
      "Refining topology: 32 rounds ME-NNIs, 2 rounds ME-SPRs, 16 rounds ML-NNIs\n",
      "Total branch-length 10.008 after 8.51 sec, 1 of 266 splits   16 changes (max delta 0.026)   \n",
      "ML-NNI round 1: LogLk = -191687.327 NNIs 50 max delta 37.59 Time 23.02s (max delta 37.593)   \n",
      "Switched to using 20 rate categories (CAT approximation)20 of 20   \n",
      "Rate categories were divided by 1.002 so that average rate = 1.0\n",
      "CAT-based log-likelihoods may not be comparable across runs\n",
      "Use -gamma for approximate but comparable Gamma(20) log-likelihoods\n",
      "ML-NNI round 2: LogLk = -179427.505 NNIs 27 max delta 4.69 Time 35.97es (max delta 4.691)   \n",
      "ML-NNI round 3: LogLk = -179410.549 NNIs 25 max delta 15.31 Time 39.44s (max delta 0.000)   \n",
      "ML-NNI round 4: LogLk = -179410.478 NNIs 17 max delta 0.03 Time 41.44\n",
      "Turning off heuristics for final round of ML NNIs (converged)\n",
      "ML-NNI round 5: LogLk = -179325.349 NNIs 21 max delta 3.45 Time 52.39 (final)delta 2.255)   \n",
      "Optimize all lengths: LogLk = -179324.108 Time 55.65\n",
      "Total time: 64.72 seconds Unique: 268/299 Bad splits: 0/265ernal splits   \n"
     ]
    }
   ],
   "source": [
    "!fasttree fastTree/concatenated_alignment.fasta > fastTree/tree.nwk"
   ]
  },
  {
   "cell_type": "code",
   "execution_count": null,
   "id": "4a6d4bde-daa7-4362-931f-be582696ce44",
   "metadata": {},
   "outputs": [],
   "source": []
  },
  {
   "cell_type": "code",
   "execution_count": null,
   "id": "e7c39439-b4a7-4f86-8917-063290e4f821",
   "metadata": {},
   "outputs": [],
   "source": [
    "\n"
   ]
  },
  {
   "cell_type": "code",
   "execution_count": 780,
   "id": "f4d0a556-e2ab-489e-8f83-de80af85e1b5",
   "metadata": {},
   "outputs": [],
   "source": [
    "\n"
   ]
  },
  {
   "cell_type": "code",
   "execution_count": null,
   "id": "0c8e43a2-3686-4a16-a38a-0c19fd668a66",
   "metadata": {},
   "outputs": [],
   "source": []
  },
  {
   "cell_type": "code",
   "execution_count": 527,
   "id": "9648d298-27c5-4012-b90b-8b7cd93cf937",
   "metadata": {},
   "outputs": [],
   "source": []
  },
  {
   "cell_type": "code",
   "execution_count": null,
   "id": "70abb5e9-d0b5-4c23-a953-7613920b7a75",
   "metadata": {},
   "outputs": [],
   "source": []
  },
  {
   "cell_type": "code",
   "execution_count": null,
   "id": "2eaa79a5-f4c2-40f4-8e16-7a42f0cc0998",
   "metadata": {},
   "outputs": [],
   "source": []
  }
 ],
 "metadata": {
  "kernelspec": {
   "display_name": "Python 3 (ipykernel)",
   "language": "python",
   "name": "python3"
  },
  "language_info": {
   "codemirror_mode": {
    "name": "ipython",
    "version": 3
   },
   "file_extension": ".py",
   "mimetype": "text/x-python",
   "name": "python",
   "nbconvert_exporter": "python",
   "pygments_lexer": "ipython3",
   "version": "3.10.1"
  }
 },
 "nbformat": 4,
 "nbformat_minor": 5
}
